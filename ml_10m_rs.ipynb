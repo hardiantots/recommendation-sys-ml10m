{
 "cells": [
  {
   "cell_type": "markdown",
   "id": "990a0a98",
   "metadata": {},
   "source": [
    "## Import Library & Data Loading"
   ]
  },
  {
   "cell_type": "code",
   "execution_count": 1,
   "id": "63456689",
   "metadata": {},
   "outputs": [
    {
     "name": "stdout",
     "output_type": "stream",
     "text": [
      "WARNING:tensorflow:From c:\\Users\\hardi\\AppData\\Local\\Programs\\Python\\Python311\\Lib\\site-packages\\keras\\src\\losses.py:2976: The name tf.losses.sparse_softmax_cross_entropy is deprecated. Please use tf.compat.v1.losses.sparse_softmax_cross_entropy instead.\n",
      "\n"
     ]
    }
   ],
   "source": [
    "import pandas as pd\n",
    "import matplotlib.pyplot as plt\n",
    "import seaborn as sns\n",
    "import tensorflow as tf\n",
    "import numpy as np\n",
    "from IPython.display import display\n",
    "from sklearn.feature_extraction.text import TfidfVectorizer\n",
    "from sklearn.preprocessing import MinMaxScaler\n",
    "from sklearn.neighbors import NearestNeighbors"
   ]
  },
  {
   "cell_type": "code",
   "execution_count": 2,
   "id": "a8684f5d",
   "metadata": {},
   "outputs": [],
   "source": [
    "movies_data = pd.read_csv('ml-10m/movies.dat', sep='::', header=None, names=['movieId', 'title', 'genres'], engine='python')\n",
    "ratings_data = pd.read_csv('ml-10m/ratings.dat', sep='::', header=None, names=['userId', 'movieId', 'rating', 'timestamp'], engine='python')\n",
    "tags_data = pd.read_csv('ml-10m/tags.dat', sep='::', header=None, names=['userId', 'movieId', 'tag', 'timestamp'], engine='python')"
   ]
  },
  {
   "cell_type": "markdown",
   "id": "83e1d576",
   "metadata": {},
   "source": [
    "## Data Understanding"
   ]
  },
  {
   "cell_type": "markdown",
   "id": "db7bf430",
   "metadata": {},
   "source": [
    "Tahapan ini berfokus pada mengetahui unsur-unsur dari data yang telah di-load. Karena isi dari data ini sebagian besar berupa string, maka beberapa hal yang akan dilihat diantaranya yaitu jumlah baris-kolom, tipe data setiap kolom, identifikasi missing value dan lain sebagainya."
   ]
  },
  {
   "cell_type": "code",
   "execution_count": 3,
   "id": "fc10c35b",
   "metadata": {},
   "outputs": [
    {
     "name": "stdout",
     "output_type": "stream",
     "text": [
      "(10681, 3)\n"
     ]
    },
    {
     "data": {
      "text/html": [
       "<div>\n",
       "<style scoped>\n",
       "    .dataframe tbody tr th:only-of-type {\n",
       "        vertical-align: middle;\n",
       "    }\n",
       "\n",
       "    .dataframe tbody tr th {\n",
       "        vertical-align: top;\n",
       "    }\n",
       "\n",
       "    .dataframe thead th {\n",
       "        text-align: right;\n",
       "    }\n",
       "</style>\n",
       "<table border=\"1\" class=\"dataframe\">\n",
       "  <thead>\n",
       "    <tr style=\"text-align: right;\">\n",
       "      <th></th>\n",
       "      <th>movieId</th>\n",
       "      <th>title</th>\n",
       "      <th>genres</th>\n",
       "    </tr>\n",
       "  </thead>\n",
       "  <tbody>\n",
       "    <tr>\n",
       "      <th>0</th>\n",
       "      <td>1</td>\n",
       "      <td>Toy Story (1995)</td>\n",
       "      <td>Adventure|Animation|Children|Comedy|Fantasy</td>\n",
       "    </tr>\n",
       "    <tr>\n",
       "      <th>1</th>\n",
       "      <td>2</td>\n",
       "      <td>Jumanji (1995)</td>\n",
       "      <td>Adventure|Children|Fantasy</td>\n",
       "    </tr>\n",
       "    <tr>\n",
       "      <th>2</th>\n",
       "      <td>3</td>\n",
       "      <td>Grumpier Old Men (1995)</td>\n",
       "      <td>Comedy|Romance</td>\n",
       "    </tr>\n",
       "    <tr>\n",
       "      <th>3</th>\n",
       "      <td>4</td>\n",
       "      <td>Waiting to Exhale (1995)</td>\n",
       "      <td>Comedy|Drama|Romance</td>\n",
       "    </tr>\n",
       "    <tr>\n",
       "      <th>4</th>\n",
       "      <td>5</td>\n",
       "      <td>Father of the Bride Part II (1995)</td>\n",
       "      <td>Comedy</td>\n",
       "    </tr>\n",
       "  </tbody>\n",
       "</table>\n",
       "</div>"
      ],
      "text/plain": [
       "   movieId                               title  \\\n",
       "0        1                    Toy Story (1995)   \n",
       "1        2                      Jumanji (1995)   \n",
       "2        3             Grumpier Old Men (1995)   \n",
       "3        4            Waiting to Exhale (1995)   \n",
       "4        5  Father of the Bride Part II (1995)   \n",
       "\n",
       "                                        genres  \n",
       "0  Adventure|Animation|Children|Comedy|Fantasy  \n",
       "1                   Adventure|Children|Fantasy  \n",
       "2                               Comedy|Romance  \n",
       "3                         Comedy|Drama|Romance  \n",
       "4                                       Comedy  "
      ]
     },
     "execution_count": 3,
     "metadata": {},
     "output_type": "execute_result"
    }
   ],
   "source": [
    "print(movies_data.shape)\n",
    "movies_data.head()"
   ]
  },
  {
   "cell_type": "code",
   "execution_count": 4,
   "id": "f3aff145",
   "metadata": {},
   "outputs": [
    {
     "name": "stdout",
     "output_type": "stream",
     "text": [
      "(10000054, 4)\n"
     ]
    },
    {
     "data": {
      "text/html": [
       "<div>\n",
       "<style scoped>\n",
       "    .dataframe tbody tr th:only-of-type {\n",
       "        vertical-align: middle;\n",
       "    }\n",
       "\n",
       "    .dataframe tbody tr th {\n",
       "        vertical-align: top;\n",
       "    }\n",
       "\n",
       "    .dataframe thead th {\n",
       "        text-align: right;\n",
       "    }\n",
       "</style>\n",
       "<table border=\"1\" class=\"dataframe\">\n",
       "  <thead>\n",
       "    <tr style=\"text-align: right;\">\n",
       "      <th></th>\n",
       "      <th>userId</th>\n",
       "      <th>movieId</th>\n",
       "      <th>rating</th>\n",
       "      <th>timestamp</th>\n",
       "    </tr>\n",
       "  </thead>\n",
       "  <tbody>\n",
       "    <tr>\n",
       "      <th>0</th>\n",
       "      <td>1</td>\n",
       "      <td>122</td>\n",
       "      <td>5.0</td>\n",
       "      <td>838985046</td>\n",
       "    </tr>\n",
       "    <tr>\n",
       "      <th>1</th>\n",
       "      <td>1</td>\n",
       "      <td>185</td>\n",
       "      <td>5.0</td>\n",
       "      <td>838983525</td>\n",
       "    </tr>\n",
       "    <tr>\n",
       "      <th>2</th>\n",
       "      <td>1</td>\n",
       "      <td>231</td>\n",
       "      <td>5.0</td>\n",
       "      <td>838983392</td>\n",
       "    </tr>\n",
       "    <tr>\n",
       "      <th>3</th>\n",
       "      <td>1</td>\n",
       "      <td>292</td>\n",
       "      <td>5.0</td>\n",
       "      <td>838983421</td>\n",
       "    </tr>\n",
       "    <tr>\n",
       "      <th>4</th>\n",
       "      <td>1</td>\n",
       "      <td>316</td>\n",
       "      <td>5.0</td>\n",
       "      <td>838983392</td>\n",
       "    </tr>\n",
       "  </tbody>\n",
       "</table>\n",
       "</div>"
      ],
      "text/plain": [
       "   userId  movieId  rating  timestamp\n",
       "0       1      122     5.0  838985046\n",
       "1       1      185     5.0  838983525\n",
       "2       1      231     5.0  838983392\n",
       "3       1      292     5.0  838983421\n",
       "4       1      316     5.0  838983392"
      ]
     },
     "execution_count": 4,
     "metadata": {},
     "output_type": "execute_result"
    }
   ],
   "source": [
    "print(ratings_data.shape)\n",
    "ratings_data.head()"
   ]
  },
  {
   "cell_type": "code",
   "execution_count": 5,
   "id": "ee0582c6",
   "metadata": {},
   "outputs": [
    {
     "name": "stdout",
     "output_type": "stream",
     "text": [
      "(95580, 4)\n"
     ]
    },
    {
     "data": {
      "text/html": [
       "<div>\n",
       "<style scoped>\n",
       "    .dataframe tbody tr th:only-of-type {\n",
       "        vertical-align: middle;\n",
       "    }\n",
       "\n",
       "    .dataframe tbody tr th {\n",
       "        vertical-align: top;\n",
       "    }\n",
       "\n",
       "    .dataframe thead th {\n",
       "        text-align: right;\n",
       "    }\n",
       "</style>\n",
       "<table border=\"1\" class=\"dataframe\">\n",
       "  <thead>\n",
       "    <tr style=\"text-align: right;\">\n",
       "      <th></th>\n",
       "      <th>userId</th>\n",
       "      <th>movieId</th>\n",
       "      <th>tag</th>\n",
       "      <th>timestamp</th>\n",
       "    </tr>\n",
       "  </thead>\n",
       "  <tbody>\n",
       "    <tr>\n",
       "      <th>0</th>\n",
       "      <td>15</td>\n",
       "      <td>4973</td>\n",
       "      <td>excellent!</td>\n",
       "      <td>1215184630</td>\n",
       "    </tr>\n",
       "    <tr>\n",
       "      <th>1</th>\n",
       "      <td>20</td>\n",
       "      <td>1747</td>\n",
       "      <td>politics</td>\n",
       "      <td>1188263867</td>\n",
       "    </tr>\n",
       "    <tr>\n",
       "      <th>2</th>\n",
       "      <td>20</td>\n",
       "      <td>1747</td>\n",
       "      <td>satire</td>\n",
       "      <td>1188263867</td>\n",
       "    </tr>\n",
       "    <tr>\n",
       "      <th>3</th>\n",
       "      <td>20</td>\n",
       "      <td>2424</td>\n",
       "      <td>chick flick 212</td>\n",
       "      <td>1188263835</td>\n",
       "    </tr>\n",
       "    <tr>\n",
       "      <th>4</th>\n",
       "      <td>20</td>\n",
       "      <td>2424</td>\n",
       "      <td>hanks</td>\n",
       "      <td>1188263835</td>\n",
       "    </tr>\n",
       "  </tbody>\n",
       "</table>\n",
       "</div>"
      ],
      "text/plain": [
       "   userId  movieId              tag   timestamp\n",
       "0      15     4973       excellent!  1215184630\n",
       "1      20     1747         politics  1188263867\n",
       "2      20     1747           satire  1188263867\n",
       "3      20     2424  chick flick 212  1188263835\n",
       "4      20     2424            hanks  1188263835"
      ]
     },
     "execution_count": 5,
     "metadata": {},
     "output_type": "execute_result"
    }
   ],
   "source": [
    "print(tags_data.shape)\n",
    "tags_data.head()"
   ]
  },
  {
   "cell_type": "markdown",
   "id": "d0ed2270",
   "metadata": {},
   "source": [
    "#### Penggabungan Dataset"
   ]
  },
  {
   "cell_type": "markdown",
   "id": "0d54358f",
   "metadata": {},
   "source": [
    "Karena basis data dari MovieLens ini terdiri dari 3 dataset, maka akan dilakukan penggabungan pada 2 dataset saja (tidak termasuk tags_data) "
   ]
  },
  {
   "cell_type": "code",
   "execution_count": 6,
   "id": "a0d1d992",
   "metadata": {},
   "outputs": [],
   "source": [
    "rating_data_full = pd.merge(movies_data, ratings_data, on='movieId', how='inner')"
   ]
  },
  {
   "cell_type": "code",
   "execution_count": 7,
   "id": "b590e74e",
   "metadata": {},
   "outputs": [
    {
     "data": {
      "text/html": [
       "<div>\n",
       "<style scoped>\n",
       "    .dataframe tbody tr th:only-of-type {\n",
       "        vertical-align: middle;\n",
       "    }\n",
       "\n",
       "    .dataframe tbody tr th {\n",
       "        vertical-align: top;\n",
       "    }\n",
       "\n",
       "    .dataframe thead th {\n",
       "        text-align: right;\n",
       "    }\n",
       "</style>\n",
       "<table border=\"1\" class=\"dataframe\">\n",
       "  <thead>\n",
       "    <tr style=\"text-align: right;\">\n",
       "      <th></th>\n",
       "      <th>movieId</th>\n",
       "      <th>title</th>\n",
       "      <th>genres</th>\n",
       "      <th>userId</th>\n",
       "      <th>rating</th>\n",
       "      <th>timestamp</th>\n",
       "    </tr>\n",
       "  </thead>\n",
       "  <tbody>\n",
       "    <tr>\n",
       "      <th>0</th>\n",
       "      <td>1</td>\n",
       "      <td>Toy Story (1995)</td>\n",
       "      <td>Adventure|Animation|Children|Comedy|Fantasy</td>\n",
       "      <td>5</td>\n",
       "      <td>1.0</td>\n",
       "      <td>857911264</td>\n",
       "    </tr>\n",
       "    <tr>\n",
       "      <th>1</th>\n",
       "      <td>1</td>\n",
       "      <td>Toy Story (1995)</td>\n",
       "      <td>Adventure|Animation|Children|Comedy|Fantasy</td>\n",
       "      <td>14</td>\n",
       "      <td>3.0</td>\n",
       "      <td>1133572007</td>\n",
       "    </tr>\n",
       "    <tr>\n",
       "      <th>2</th>\n",
       "      <td>1</td>\n",
       "      <td>Toy Story (1995)</td>\n",
       "      <td>Adventure|Animation|Children|Comedy|Fantasy</td>\n",
       "      <td>18</td>\n",
       "      <td>3.0</td>\n",
       "      <td>1111545931</td>\n",
       "    </tr>\n",
       "    <tr>\n",
       "      <th>3</th>\n",
       "      <td>1</td>\n",
       "      <td>Toy Story (1995)</td>\n",
       "      <td>Adventure|Animation|Children|Comedy|Fantasy</td>\n",
       "      <td>23</td>\n",
       "      <td>5.0</td>\n",
       "      <td>849543482</td>\n",
       "    </tr>\n",
       "    <tr>\n",
       "      <th>4</th>\n",
       "      <td>1</td>\n",
       "      <td>Toy Story (1995)</td>\n",
       "      <td>Adventure|Animation|Children|Comedy|Fantasy</td>\n",
       "      <td>24</td>\n",
       "      <td>5.0</td>\n",
       "      <td>868254237</td>\n",
       "    </tr>\n",
       "  </tbody>\n",
       "</table>\n",
       "</div>"
      ],
      "text/plain": [
       "   movieId             title                                       genres  \\\n",
       "0        1  Toy Story (1995)  Adventure|Animation|Children|Comedy|Fantasy   \n",
       "1        1  Toy Story (1995)  Adventure|Animation|Children|Comedy|Fantasy   \n",
       "2        1  Toy Story (1995)  Adventure|Animation|Children|Comedy|Fantasy   \n",
       "3        1  Toy Story (1995)  Adventure|Animation|Children|Comedy|Fantasy   \n",
       "4        1  Toy Story (1995)  Adventure|Animation|Children|Comedy|Fantasy   \n",
       "\n",
       "   userId  rating   timestamp  \n",
       "0       5     1.0   857911264  \n",
       "1      14     3.0  1133572007  \n",
       "2      18     3.0  1111545931  \n",
       "3      23     5.0   849543482  \n",
       "4      24     5.0   868254237  "
      ]
     },
     "execution_count": 7,
     "metadata": {},
     "output_type": "execute_result"
    }
   ],
   "source": [
    "rating_data_full.head()"
   ]
  },
  {
   "cell_type": "code",
   "execution_count": 8,
   "id": "03119e04",
   "metadata": {},
   "outputs": [
    {
     "data": {
      "text/plain": [
       "(10000054, 6)"
      ]
     },
     "execution_count": 8,
     "metadata": {},
     "output_type": "execute_result"
    }
   ],
   "source": [
    "rating_data_full.shape"
   ]
  },
  {
   "cell_type": "code",
   "execution_count": 9,
   "id": "a07de4ee",
   "metadata": {},
   "outputs": [
    {
     "name": "stdout",
     "output_type": "stream",
     "text": [
      "<class 'pandas.core.frame.DataFrame'>\n",
      "RangeIndex: 10000054 entries, 0 to 10000053\n",
      "Data columns (total 6 columns):\n",
      " #   Column     Dtype  \n",
      "---  ------     -----  \n",
      " 0   movieId    int64  \n",
      " 1   title      object \n",
      " 2   genres     object \n",
      " 3   userId     int64  \n",
      " 4   rating     float64\n",
      " 5   timestamp  int64  \n",
      "dtypes: float64(1), int64(3), object(2)\n",
      "memory usage: 457.8+ MB\n"
     ]
    }
   ],
   "source": [
    "rating_data_full.info()"
   ]
  },
  {
   "cell_type": "markdown",
   "id": "e94dbe42",
   "metadata": {},
   "source": [
    "Penjelasan detail pada setiap kolommnya\n",
    "\n",
    "| Kolom       | Tipe Data | Deskripsi                                                                 |\n",
    "|-------------|-----------|---------------------------------------------------------------------------|\n",
    "| userId      | Integer   | ID unik untuk pengguna yang memberikan rating                             |\n",
    "| movieId     | Integer   | ID unik untuk film                                                        |\n",
    "| rating      | Float     | Nilai rating yang diberikan oleh pengguna untuk film (biasanya 0.5 - 5.0) |\n",
    "| timestamp   | Integer   | Waktu rating diberikan (format Unix timestamp)                            |\n",
    "| title       | String    | Judul film beserta tahun rilis                                            |\n",
    "| genres      | String    | Genre film, dipisahkan dengan tanda `|`                                   |"
   ]
  },
  {
   "cell_type": "markdown",
   "id": "48a91375",
   "metadata": {},
   "source": [
    "Penggabungan dataset perlu dilakukan agar langkah-langkah berikutnya tidak menggunakan data yang terpisah, melainkan menggunakan hasil penggabungan data. Selain itu, akan dilakukan konversi pada kolom timestamp (karena format dalam data berupa unix) dan pengambilan tahun rilis film"
   ]
  },
  {
   "cell_type": "code",
   "execution_count": 10,
   "id": "f542258a",
   "metadata": {},
   "outputs": [],
   "source": [
    "rating_data_full['timestamp'] = pd.to_datetime(rating_data_full['timestamp'], unit='s')"
   ]
  },
  {
   "cell_type": "code",
   "execution_count": 11,
   "id": "dc0be9cc",
   "metadata": {},
   "outputs": [],
   "source": [
    "rating_data_full['year_rating_given'] = rating_data_full['timestamp'].dt.year\n",
    "rating_data_full['month_rating_given'] = rating_data_full['timestamp'].dt.month"
   ]
  },
  {
   "cell_type": "code",
   "execution_count": 12,
   "id": "d8d08f58",
   "metadata": {},
   "outputs": [],
   "source": [
    "rating_data_full['year_film'] = rating_data_full['title'].str.extract(r'\\((\\d{4})\\)').astype(float)\n",
    "rating_data_full['title'] = rating_data_full['title'].str.replace(r'\\s*\\(\\d{4}\\)', '', regex=True)"
   ]
  },
  {
   "cell_type": "markdown",
   "id": "3fcd0932",
   "metadata": {},
   "source": [
    "Selain itu, akan dicari tahu nilai unik pada bagian-bagian tertentu"
   ]
  },
  {
   "cell_type": "code",
   "execution_count": 13,
   "id": "72214b78",
   "metadata": {},
   "outputs": [
    {
     "name": "stdout",
     "output_type": "stream",
     "text": [
      "Jumlah data film : 10677\n",
      "Jumlah data pengunjung : 69878\n",
      "Jumlah data penayangan : 10000054\n"
     ]
    }
   ],
   "source": [
    "print('Jumlah data film :', len(rating_data_full['movieId'].unique()))\n",
    "print('Jumlah data pengunjung :', len(rating_data_full['userId'].unique()))\n",
    "print('Jumlah data penayangan :', len(rating_data_full['userId']))"
   ]
  },
  {
   "cell_type": "markdown",
   "id": "21824359",
   "metadata": {},
   "source": [
    "##### Identifikasi missing value, data duplikat"
   ]
  },
  {
   "cell_type": "code",
   "execution_count": 14,
   "id": "74eaf57e",
   "metadata": {},
   "outputs": [
    {
     "name": "stdout",
     "output_type": "stream",
     "text": [
      "Jumlah Missing Value pada setiap kolom: \n"
     ]
    },
    {
     "data": {
      "text/plain": [
       "movieId               0\n",
       "title                 0\n",
       "genres                0\n",
       "userId                0\n",
       "rating                0\n",
       "timestamp             0\n",
       "year_rating_given     0\n",
       "month_rating_given    0\n",
       "year_film             0\n",
       "dtype: int64"
      ]
     },
     "execution_count": 14,
     "metadata": {},
     "output_type": "execute_result"
    }
   ],
   "source": [
    "print(\"Jumlah Missing Value pada setiap kolom: \")\n",
    "rating_data_full.isna().sum()"
   ]
  },
  {
   "cell_type": "code",
   "execution_count": 15,
   "id": "e29d450e",
   "metadata": {},
   "outputs": [
    {
     "name": "stdout",
     "output_type": "stream",
     "text": [
      "Jumlah data yang terduplikat: 9989647\n"
     ]
    }
   ],
   "source": [
    "print(f\"Jumlah data yang terduplikat: {rating_data_full.duplicated(subset=['title']).sum()}\")"
   ]
  },
  {
   "cell_type": "code",
   "execution_count": 16,
   "id": "e6ca3961",
   "metadata": {},
   "outputs": [
    {
     "name": "stdout",
     "output_type": "stream",
     "text": [
      "Judul film yang paling sering terduplikat:\n",
      "title\n",
      "Pulp Fiction                                             34864\n",
      "Forrest Gump                                             34457\n",
      "Silence of the Lambs, The                                33668\n",
      "Jurassic Park                                            32631\n",
      "Shawshank Redemption, The                                31126\n",
      "Braveheart                                               29154\n",
      "Fugitive, The                                            28974\n",
      "Terminator 2: Judgment Day                               28948\n",
      "Star Wars: Episode IV - A New Hope (a.k.a. Star Wars)    28566\n",
      "Batman                                                   27348\n",
      "Apollo 13                                                27035\n",
      "Toy Story                                                26449\n",
      "Independence Day (a.k.a. ID4)                            26042\n",
      "Dances with Wolves                                       25912\n",
      "Schindler's List                                         25777\n",
      "True Lies                                                25381\n",
      "Star Wars: Episode VI - Return of the Jedi               25098\n",
      "12 Monkeys (Twelve Monkeys)                              24397\n",
      "Usual Suspects, The                                      24037\n",
      "Fargo                                                    23794\n",
      "Name: count, dtype: int64\n"
     ]
    }
   ],
   "source": [
    "# Hitung duplikat berdasarkan judul\n",
    "duplicate_counts = rating_data_full['title'].value_counts()\n",
    "print(\"Judul film yang paling sering terduplikat:\")\n",
    "print(duplicate_counts.head(20))"
   ]
  },
  {
   "cell_type": "markdown",
   "id": "697dde5b",
   "metadata": {},
   "source": [
    "- Tidak terdapat missing value pada hasil gabungan dataset\n",
    "- Terdapat nama film yang terduplikat (jumlahnya sangat banyak 9989647). Karena banyak judul film yang terduplikat karena efek dari pemberian rating dari beberapa user kepada 1 film tertentu, tindakan berikutnya yang akan dilakukan yaitu mengambil rata-rata rating dari setiap judul film dalam data preparation nantinya dan menaruh hasil penghilangan data yang terduplikat pada variable baru untuk analisa terkait genre"
   ]
  },
  {
   "cell_type": "code",
   "execution_count": 17,
   "id": "ed29dbbc",
   "metadata": {},
   "outputs": [],
   "source": [
    "rating_data_full['year_film'] = rating_data_full['year_film'].astype(int)"
   ]
  },
  {
   "cell_type": "markdown",
   "id": "31cd6d74",
   "metadata": {},
   "source": [
    "Selanjutnya yaitu mengekstrak genre yang terdapat dalam film"
   ]
  },
  {
   "cell_type": "code",
   "execution_count": 18,
   "id": "0024a6ab",
   "metadata": {},
   "outputs": [],
   "source": [
    "rating_data_full['genres'] = rating_data_full['genres'].str.replace('|', ' ', regex=False)\n",
    "rating_data_full['genre_list'] = rating_data_full['genres'].str.split()\n",
    "\n",
    "genre_long = rating_data_full.explode('genre_list')\n",
    "genre_real = genre_long.drop_duplicates(subset=['title'])\n",
    "genre_counts = genre_real['genre_list'].value_counts()"
   ]
  },
  {
   "cell_type": "code",
   "execution_count": 19,
   "id": "aa057ab9",
   "metadata": {},
   "outputs": [
    {
     "data": {
      "text/plain": [
       "genre_list\n",
       "Drama          3077\n",
       "Comedy         2963\n",
       "Action         1417\n",
       "Crime           567\n",
       "Adventure       557\n",
       "Horror          523\n",
       "Documentary     434\n",
       "Children        182\n",
       "Animation       159\n",
       "Thriller        126\n",
       "Western          91\n",
       "Sci-Fi           71\n",
       "Romance          58\n",
       "Mystery          45\n",
       "Fantasy          45\n",
       "Musical          44\n",
       "Film-Noir        26\n",
       "War              20\n",
       "IMAX              1\n",
       "(no               1\n",
       "Name: count, dtype: int64"
      ]
     },
     "execution_count": 19,
     "metadata": {},
     "output_type": "execute_result"
    }
   ],
   "source": [
    "genre_counts"
   ]
  },
  {
   "cell_type": "code",
   "execution_count": 20,
   "id": "999a3565",
   "metadata": {},
   "outputs": [
    {
     "data": {
      "text/plain": [
       "(10000054, 10)"
      ]
     },
     "execution_count": 20,
     "metadata": {},
     "output_type": "execute_result"
    }
   ],
   "source": [
    "rating_data_full.shape"
   ]
  },
  {
   "cell_type": "markdown",
   "id": "391d07e9",
   "metadata": {},
   "source": [
    "Kemudian menghapus genre yang tidak diketahui"
   ]
  },
  {
   "cell_type": "code",
   "execution_count": 21,
   "id": "62859cdc",
   "metadata": {},
   "outputs": [],
   "source": [
    "rating_data_full = rating_data_full[~(rating_data_full['genres']=='(no genres listed)')].reset_index(drop=True)"
   ]
  },
  {
   "cell_type": "markdown",
   "id": "59ff728e",
   "metadata": {},
   "source": [
    "Mengubah nama genre tertentu"
   ]
  },
  {
   "cell_type": "code",
   "execution_count": 22,
   "id": "5bb14acb",
   "metadata": {},
   "outputs": [],
   "source": [
    "rating_data_full['genre_list'] = rating_data_full['genre_list'].apply(\n",
    "    lambda genres: ['Scifi' if g == 'Sci-Fi' else 'Noir' if g == 'Film-Noir' else g for g in genres]\n",
    ")\n",
    "\n",
    "rating_data_full['genres'] = rating_data_full['genre_list'].apply(lambda x: ' '.join(x))"
   ]
  },
  {
   "cell_type": "code",
   "execution_count": 23,
   "id": "ef4435e5",
   "metadata": {},
   "outputs": [
    {
     "data": {
      "text/plain": [
       "(10000047, 10)"
      ]
     },
     "execution_count": 23,
     "metadata": {},
     "output_type": "execute_result"
    }
   ],
   "source": [
    "rating_data_full.shape"
   ]
  },
  {
   "cell_type": "code",
   "execution_count": 24,
   "id": "a9fd952d",
   "metadata": {},
   "outputs": [],
   "source": [
    "genre_long = rating_data_full.explode('genre_list')\n",
    "genre_real = genre_long.drop_duplicates(subset=['title'])\n",
    "genre_counts = genre_real['genre_list'].value_counts()"
   ]
  },
  {
   "cell_type": "markdown",
   "id": "7a81b073",
   "metadata": {},
   "source": [
    "#### Visualisasi Distribusi pada Data"
   ]
  },
  {
   "cell_type": "markdown",
   "id": "bd5b0372",
   "metadata": {},
   "source": [
    "Distribusi Rating Pengguna"
   ]
  },
  {
   "cell_type": "code",
   "execution_count": 25,
   "id": "c53d29d3",
   "metadata": {},
   "outputs": [
    {
     "data": {
      "image/png": "[encoded data removed]",
      "text/plain": [
       "<Figure size 640x480 with 1 Axes>"
      ]
     },
     "metadata": {},
     "output_type": "display_data"
    }
   ],
   "source": [
    "sns.histplot(rating_data_full, x='rating', bins=20, kde=True, color='blue')\n",
    "plt.title('Distribusi Rating Pengguna')\n",
    "plt.xlabel('Rating')\n",
    "plt.ylabel('Jumlah')\n",
    "plt.show()"
   ]
  },
  {
   "cell_type": "markdown",
   "id": "49112e8b",
   "metadata": {},
   "source": [
    "Berdasarkan hasil data understanding, terdapat beberapa hal:\n",
    "- Terdapat beberapa tindakan yang dilakukan pada data, seperti melakukan penggabungan beberapa dataset, mengekstrak tahun dari judul film, mengubah timestamp dari format Unix menjadi datetime, melakukan pembuatan variable baru untuk menampung genre (tanpa data judul film yang terduplikat), dan lain-lain \n",
    "- Distribusi rating pengguna memiliki sebaran yang cukup besar pada nilai rating 3-5. Selain itu, hanya sedikit jumlah film yang mendapatkan rating sekitar 1-2.\n",
    "- Total data untuk rating pada film sekitar 9989647 data (setelah beberapa tindakan). Namun, data tersebut hanya untuk rating. Jika melihat data judul film hanya sekitar 10677, tentunya banyak user yang melakukan pemberian rating pada 1 judul film tertentu."
   ]
  },
  {
   "cell_type": "markdown",
   "id": "399bbea3",
   "metadata": {},
   "source": [
    "## Exploratory Data Analysis"
   ]
  },
  {
   "cell_type": "markdown",
   "id": "82ed293f",
   "metadata": {},
   "source": [
    "Berdasarkan hasil data understanding di bagian sebelumnya, akan dilakukan analisis-analisis untuk mengetahui informasi yang bisa diperoleh dari dataset ini"
   ]
  },
  {
   "cell_type": "markdown",
   "id": "f53166a7",
   "metadata": {},
   "source": [
    "##### Melihat urutan top 10 pada data"
   ]
  },
  {
   "cell_type": "code",
   "execution_count": 26,
   "id": "6dc77ce5",
   "metadata": {},
   "outputs": [],
   "source": [
    "def plot_top_list(data, title_name):\n",
    "    top_data = data\n",
    "    colors = [\"#33FF57\", \"#2ECC71\", \"#27AE60\"] + [\"#D2D2D2\"] * (len(top_data) - 3)\n",
    "\n",
    "    plt.figure(figsize=(12, 5))\n",
    "    top_data.plot(kind='barh', color=colors[:len(top_data)])\n",
    "    plt.title(f'Top 10 {title_name}')\n",
    "    plt.xlabel('Frekuensi')\n",
    "    plt.xticks([])\n",
    "    plt.gca().invert_yaxis()\n",
    "    plt.tight_layout()\n",
    "\n",
    "    for index, value in enumerate(top_data):\n",
    "        plt.text(value + 5, index, str(value), va='center')\n",
    "\n",
    "    plt.show()"
   ]
  },
  {
   "cell_type": "markdown",
   "id": "dc148670",
   "metadata": {},
   "source": [
    "Berdasarkan Genre Film Terbanyak"
   ]
  },
  {
   "cell_type": "code",
   "execution_count": 28,
   "id": "2fd909f5",
   "metadata": {},
   "outputs": [
    {
     "data": {
      "image/png": "[encoded data removed]",
      "text/plain": [
       "<Figure size 1200x500 with 1 Axes>"
      ]
     },
     "metadata": {},
     "output_type": "display_data"
    }
   ],
   "source": [
    "plot_top_list(genre_counts.head(10), 'Genre Film terbanyak')"
   ]
  },
  {
   "cell_type": "markdown",
   "id": "90591dc0",
   "metadata": {},
   "source": [
    "Berdasarkan pemberian rating terbanyak dalam periode tertentu (tahun dan bulan)"
   ]
  },
  {
   "cell_type": "code",
   "execution_count": 29,
   "id": "b95d015c",
   "metadata": {},
   "outputs": [
    {
     "data": {
      "image/png": "[encoded data removed]",
      "text/plain": [
       "<Figure size 1200x500 with 1 Axes>"
      ]
     },
     "metadata": {},
     "output_type": "display_data"
    },
    {
     "data": {
      "image/png": "[encoded data removed]",
      "text/plain": [
       "<Figure size 1200x500 with 1 Axes>"
      ]
     },
     "metadata": {},
     "output_type": "display_data"
    }
   ],
   "source": [
    "rating_per_year = rating_data_full['year_rating_given'].value_counts().head(10)\n",
    "rating_per_month = rating_data_full['month_rating_given'].value_counts().head(10)\n",
    "\n",
    "plot_top_list(rating_per_year.head(10), 'Tahun dengan Pemberian Rating Film Terbanyak')\n",
    "plot_top_list(rating_per_month.head(10), 'Bulan dengan Pemberian Rating Film terbanyak')"
   ]
  },
  {
   "cell_type": "markdown",
   "id": "289c31dc",
   "metadata": {},
   "source": [
    "List Film dengan Rating terbanyak dan Rata-rata rating tertinggi"
   ]
  },
  {
   "cell_type": "code",
   "execution_count": 27,
   "id": "f73121c8",
   "metadata": {},
   "outputs": [],
   "source": [
    "def plot_rating_film(x, y, title_name):\n",
    "    plt.figure(figsize=(15, 6))\n",
    "    ax = sns.barplot(x=x, y=y, hue=y, palette='Blues_r')\n",
    "\n",
    "    for i, v in enumerate(x):\n",
    "        ax.text(v + 0.01, i, f\"{v:.2f}\", va='center', fontsize=10)\n",
    "        \n",
    "    plt.title(f'{title_name}', fontsize=14)\n",
    "    plt.grid(axis='x', linestyle='--', alpha=0.3)\n",
    "    plt.tight_layout()\n",
    "    plt.show()"
   ]
  },
  {
   "cell_type": "code",
   "execution_count": 28,
   "id": "6bc353c5",
   "metadata": {},
   "outputs": [
    {
     "data": {
      "image/png": "[encoded data removed]",
      "text/plain": [
       "<Figure size 1500x600 with 1 Axes>"
      ]
     },
     "metadata": {},
     "output_type": "display_data"
    },
    {
     "data": {
      "image/png": "[encoded data removed]",
      "text/plain": [
       "<Figure size 1500x600 with 1 Axes>"
      ]
     },
     "metadata": {},
     "output_type": "display_data"
    }
   ],
   "source": [
    "most_rated = rating_data_full.groupby('title')['rating'].count().sort_values(ascending=False).head(10)\n",
    "\n",
    "film_stats = rating_data_full.groupby('title')['rating'].agg(['mean', 'count'])\n",
    "film_stats['mean'] = film_stats['mean'].round(3)\n",
    "popular_films = film_stats[film_stats['count'] >= 50].sort_values('mean', ascending=False).head(10)\n",
    "\n",
    "plot_rating_film(most_rated.values, most_rated.index, 'Film dengan Pemberian Rating Terbanyak')\n",
    "plot_rating_film(popular_films['mean'].values, popular_films.index, 'Film dengan Rata-Rata Rating Tertinggi')"
   ]
  },
  {
   "cell_type": "markdown",
   "id": "a639d113",
   "metadata": {},
   "source": [
    "Hasil Akhir Analisa pada data:\n",
    "- 3 Teratas untuk Genre Film yang terdapat dalam dataset dari MovieLens ini yaitu Drama, Comedy, Action. Ini menandakan bahwa pada rentang dataset ini dikumpulkan, genre film yang banyak diminati oleh pasaran yaitu ketiga genre tersebut sehingga banyak produser film yang berupaya untuk mengambil keuntungan dari hal tersebut.\n",
    "- 3 Teratas untuk Tahun dengan pemberian rating terbanyak yaitu tahun 2000, 2005, dan 1996. Hal ini berarti bahwa dataset ini didominasi oleh film-film yang berada dibawah tahun 2010-an\n",
    "- 3 teratas untuk Bulan dengan pemberian rating terbanyak yaitu bulan 11, 12, 10. Jika melihat dari bulannya, ini dalam masa-masa akan memasuki liburan akhir tahun, sehingga banyak orang yang mulai meluangkan waktu untuk menonton film dan memberik rating pada website MovieLens.\n",
    "- 3 Film teratas dengan Pemberian Rating Terbanyak yaitu Pulp Fiction, Forest Gump, The Silence of the Lambs.\n",
    "- 3 Film dengan rata-rata rating tertinggi yaitu The Shawshank Redemption, The Godfather, The Usual Suspects. Ini menandakan bahwa pemberian rating yang semakin banyak belum tentu sejalan dengan hasil rata-rata rating yang akan selalu tinggi, karena 3 besar ini tidak masuk dalam 3 besar film dengan pemberian rating terbanyak."
   ]
  },
  {
   "cell_type": "markdown",
   "id": "2a7700ea",
   "metadata": {},
   "source": [
    "## Data Preparation"
   ]
  },
  {
   "cell_type": "markdown",
   "id": "f6b78165",
   "metadata": {},
   "source": [
    "Beberapa hal akan dilakukan pada bagian ini, seperti:\n",
    "- Memastikan data yang digunakan sudah memiliki rata-rata rating dari setiap judul film (karena duplikat data akan dihapus)\n",
    "- Mempersiapkan data untuk Content-Based Filtering\n",
    "- Mempersiapkan data untuk Collaborative Filtering"
   ]
  },
  {
   "cell_type": "code",
   "execution_count": 32,
   "id": "3ba7e21c",
   "metadata": {},
   "outputs": [
    {
     "data": {
      "text/html": [
       "<div>\n",
       "<style scoped>\n",
       "    .dataframe tbody tr th:only-of-type {\n",
       "        vertical-align: middle;\n",
       "    }\n",
       "\n",
       "    .dataframe tbody tr th {\n",
       "        vertical-align: top;\n",
       "    }\n",
       "\n",
       "    .dataframe thead th {\n",
       "        text-align: right;\n",
       "    }\n",
       "</style>\n",
       "<table border=\"1\" class=\"dataframe\">\n",
       "  <thead>\n",
       "    <tr style=\"text-align: right;\">\n",
       "      <th></th>\n",
       "      <th>movieId</th>\n",
       "      <th>title</th>\n",
       "      <th>genres</th>\n",
       "      <th>userId</th>\n",
       "      <th>rating</th>\n",
       "      <th>timestamp</th>\n",
       "      <th>year_rating_given</th>\n",
       "      <th>month_rating_given</th>\n",
       "      <th>year_film</th>\n",
       "      <th>genre_list</th>\n",
       "    </tr>\n",
       "  </thead>\n",
       "  <tbody>\n",
       "    <tr>\n",
       "      <th>0</th>\n",
       "      <td>1</td>\n",
       "      <td>Toy Story</td>\n",
       "      <td>Adventure Animation Children Comedy Fantasy</td>\n",
       "      <td>5</td>\n",
       "      <td>1.0</td>\n",
       "      <td>1997-03-09 12:41:04</td>\n",
       "      <td>1997</td>\n",
       "      <td>3</td>\n",
       "      <td>1995</td>\n",
       "      <td>[Adventure, Animation, Children, Comedy, Fantasy]</td>\n",
       "    </tr>\n",
       "    <tr>\n",
       "      <th>1</th>\n",
       "      <td>1</td>\n",
       "      <td>Toy Story</td>\n",
       "      <td>Adventure Animation Children Comedy Fantasy</td>\n",
       "      <td>14</td>\n",
       "      <td>3.0</td>\n",
       "      <td>2005-12-03 01:06:47</td>\n",
       "      <td>2005</td>\n",
       "      <td>12</td>\n",
       "      <td>1995</td>\n",
       "      <td>[Adventure, Animation, Children, Comedy, Fantasy]</td>\n",
       "    </tr>\n",
       "    <tr>\n",
       "      <th>2</th>\n",
       "      <td>1</td>\n",
       "      <td>Toy Story</td>\n",
       "      <td>Adventure Animation Children Comedy Fantasy</td>\n",
       "      <td>18</td>\n",
       "      <td>3.0</td>\n",
       "      <td>2005-03-23 02:45:31</td>\n",
       "      <td>2005</td>\n",
       "      <td>3</td>\n",
       "      <td>1995</td>\n",
       "      <td>[Adventure, Animation, Children, Comedy, Fantasy]</td>\n",
       "    </tr>\n",
       "    <tr>\n",
       "      <th>3</th>\n",
       "      <td>1</td>\n",
       "      <td>Toy Story</td>\n",
       "      <td>Adventure Animation Children Comedy Fantasy</td>\n",
       "      <td>23</td>\n",
       "      <td>5.0</td>\n",
       "      <td>1996-12-02 16:18:02</td>\n",
       "      <td>1996</td>\n",
       "      <td>12</td>\n",
       "      <td>1995</td>\n",
       "      <td>[Adventure, Animation, Children, Comedy, Fantasy]</td>\n",
       "    </tr>\n",
       "    <tr>\n",
       "      <th>4</th>\n",
       "      <td>1</td>\n",
       "      <td>Toy Story</td>\n",
       "      <td>Adventure Animation Children Comedy Fantasy</td>\n",
       "      <td>24</td>\n",
       "      <td>5.0</td>\n",
       "      <td>1997-07-07 05:43:57</td>\n",
       "      <td>1997</td>\n",
       "      <td>7</td>\n",
       "      <td>1995</td>\n",
       "      <td>[Adventure, Animation, Children, Comedy, Fantasy]</td>\n",
       "    </tr>\n",
       "  </tbody>\n",
       "</table>\n",
       "</div>"
      ],
      "text/plain": [
       "   movieId      title                                       genres  userId  \\\n",
       "0        1  Toy Story  Adventure Animation Children Comedy Fantasy       5   \n",
       "1        1  Toy Story  Adventure Animation Children Comedy Fantasy      14   \n",
       "2        1  Toy Story  Adventure Animation Children Comedy Fantasy      18   \n",
       "3        1  Toy Story  Adventure Animation Children Comedy Fantasy      23   \n",
       "4        1  Toy Story  Adventure Animation Children Comedy Fantasy      24   \n",
       "\n",
       "   rating           timestamp  year_rating_given  month_rating_given  \\\n",
       "0     1.0 1997-03-09 12:41:04               1997                   3   \n",
       "1     3.0 2005-12-03 01:06:47               2005                  12   \n",
       "2     3.0 2005-03-23 02:45:31               2005                   3   \n",
       "3     5.0 1996-12-02 16:18:02               1996                  12   \n",
       "4     5.0 1997-07-07 05:43:57               1997                   7   \n",
       "\n",
       "   year_film                                         genre_list  \n",
       "0       1995  [Adventure, Animation, Children, Comedy, Fantasy]  \n",
       "1       1995  [Adventure, Animation, Children, Comedy, Fantasy]  \n",
       "2       1995  [Adventure, Animation, Children, Comedy, Fantasy]  \n",
       "3       1995  [Adventure, Animation, Children, Comedy, Fantasy]  \n",
       "4       1995  [Adventure, Animation, Children, Comedy, Fantasy]  "
      ]
     },
     "execution_count": 32,
     "metadata": {},
     "output_type": "execute_result"
    }
   ],
   "source": [
    "rating_data_full.head()"
   ]
  },
  {
   "cell_type": "code",
   "execution_count": 33,
   "id": "fe51864c",
   "metadata": {},
   "outputs": [],
   "source": [
    "mean_ratings = film_stats['mean']\n",
    "\n",
    "rating_data_full['mean_rating'] = rating_data_full['title'].map(mean_ratings)"
   ]
  },
  {
   "cell_type": "code",
   "execution_count": 34,
   "id": "e88c3df7",
   "metadata": {},
   "outputs": [
    {
     "data": {
      "text/html": [
       "<div>\n",
       "<style scoped>\n",
       "    .dataframe tbody tr th:only-of-type {\n",
       "        vertical-align: middle;\n",
       "    }\n",
       "\n",
       "    .dataframe tbody tr th {\n",
       "        vertical-align: top;\n",
       "    }\n",
       "\n",
       "    .dataframe thead th {\n",
       "        text-align: right;\n",
       "    }\n",
       "</style>\n",
       "<table border=\"1\" class=\"dataframe\">\n",
       "  <thead>\n",
       "    <tr style=\"text-align: right;\">\n",
       "      <th></th>\n",
       "      <th>movieId</th>\n",
       "      <th>title</th>\n",
       "      <th>genres</th>\n",
       "      <th>userId</th>\n",
       "      <th>rating</th>\n",
       "      <th>timestamp</th>\n",
       "      <th>year_rating_given</th>\n",
       "      <th>month_rating_given</th>\n",
       "      <th>year_film</th>\n",
       "      <th>genre_list</th>\n",
       "      <th>mean_rating</th>\n",
       "    </tr>\n",
       "  </thead>\n",
       "  <tbody>\n",
       "    <tr>\n",
       "      <th>0</th>\n",
       "      <td>1</td>\n",
       "      <td>Toy Story</td>\n",
       "      <td>Adventure Animation Children Comedy Fantasy</td>\n",
       "      <td>5</td>\n",
       "      <td>1.0</td>\n",
       "      <td>1997-03-09 12:41:04</td>\n",
       "      <td>1997</td>\n",
       "      <td>3</td>\n",
       "      <td>1995</td>\n",
       "      <td>[Adventure, Animation, Children, Comedy, Fantasy]</td>\n",
       "      <td>3.929</td>\n",
       "    </tr>\n",
       "    <tr>\n",
       "      <th>1</th>\n",
       "      <td>1</td>\n",
       "      <td>Toy Story</td>\n",
       "      <td>Adventure Animation Children Comedy Fantasy</td>\n",
       "      <td>14</td>\n",
       "      <td>3.0</td>\n",
       "      <td>2005-12-03 01:06:47</td>\n",
       "      <td>2005</td>\n",
       "      <td>12</td>\n",
       "      <td>1995</td>\n",
       "      <td>[Adventure, Animation, Children, Comedy, Fantasy]</td>\n",
       "      <td>3.929</td>\n",
       "    </tr>\n",
       "  </tbody>\n",
       "</table>\n",
       "</div>"
      ],
      "text/plain": [
       "   movieId      title                                       genres  userId  \\\n",
       "0        1  Toy Story  Adventure Animation Children Comedy Fantasy       5   \n",
       "1        1  Toy Story  Adventure Animation Children Comedy Fantasy      14   \n",
       "\n",
       "   rating           timestamp  year_rating_given  month_rating_given  \\\n",
       "0     1.0 1997-03-09 12:41:04               1997                   3   \n",
       "1     3.0 2005-12-03 01:06:47               2005                  12   \n",
       "\n",
       "   year_film                                         genre_list  mean_rating  \n",
       "0       1995  [Adventure, Animation, Children, Comedy, Fantasy]        3.929  \n",
       "1       1995  [Adventure, Animation, Children, Comedy, Fantasy]        3.929  "
      ]
     },
     "execution_count": 34,
     "metadata": {},
     "output_type": "execute_result"
    }
   ],
   "source": [
    "rating_data_full[rating_data_full['title'] == 'Toy Story'].head(2)"
   ]
  },
  {
   "cell_type": "code",
   "execution_count": 35,
   "id": "2d94ddfe",
   "metadata": {},
   "outputs": [
    {
     "name": "stdout",
     "output_type": "stream",
     "text": [
      "(10406, 11)\n"
     ]
    }
   ],
   "source": [
    "pure_data = rating_data_full.drop_duplicates(subset=['title'])\n",
    "print(pure_data.shape)"
   ]
  },
  {
   "cell_type": "markdown",
   "id": "6aa39800",
   "metadata": {},
   "source": [
    "#### Persiapan data Content-Based Filtering"
   ]
  },
  {
   "cell_type": "markdown",
   "id": "abf574b4",
   "metadata": {},
   "source": [
    "Melakukan TF-IDF pada Kolom Genre"
   ]
  },
  {
   "cell_type": "code",
   "execution_count": 36,
   "id": "e34059d1",
   "metadata": {},
   "outputs": [],
   "source": [
    "tf_idf = TfidfVectorizer(stop_words='english')\n",
    "tf_idf_matrix = tf_idf.fit_transform(pure_data['genres'])"
   ]
  },
  {
   "cell_type": "code",
   "execution_count": 37,
   "id": "77fb38b0",
   "metadata": {},
   "outputs": [
    {
     "data": {
      "text/html": [
       "<div>\n",
       "<style scoped>\n",
       "    .dataframe tbody tr th:only-of-type {\n",
       "        vertical-align: middle;\n",
       "    }\n",
       "\n",
       "    .dataframe tbody tr th {\n",
       "        vertical-align: top;\n",
       "    }\n",
       "\n",
       "    .dataframe thead th {\n",
       "        text-align: right;\n",
       "    }\n",
       "</style>\n",
       "<table border=\"1\" class=\"dataframe\">\n",
       "  <thead>\n",
       "    <tr style=\"text-align: right;\">\n",
       "      <th></th>\n",
       "      <th>action</th>\n",
       "      <th>adventure</th>\n",
       "      <th>animation</th>\n",
       "      <th>children</th>\n",
       "      <th>comedy</th>\n",
       "      <th>crime</th>\n",
       "      <th>documentary</th>\n",
       "      <th>drama</th>\n",
       "      <th>fantasy</th>\n",
       "      <th>horror</th>\n",
       "      <th>imax</th>\n",
       "      <th>musical</th>\n",
       "      <th>mystery</th>\n",
       "      <th>noir</th>\n",
       "      <th>romance</th>\n",
       "      <th>scifi</th>\n",
       "      <th>thriller</th>\n",
       "      <th>war</th>\n",
       "      <th>western</th>\n",
       "    </tr>\n",
       "  </thead>\n",
       "  <tbody>\n",
       "    <tr>\n",
       "      <th>0</th>\n",
       "      <td>0.0</td>\n",
       "      <td>0.404930</td>\n",
       "      <td>0.555756</td>\n",
       "      <td>0.483633</td>\n",
       "      <td>0.248198</td>\n",
       "      <td>0.0</td>\n",
       "      <td>0.0</td>\n",
       "      <td>0.000000</td>\n",
       "      <td>0.481314</td>\n",
       "      <td>0.0</td>\n",
       "      <td>0.0</td>\n",
       "      <td>0.0</td>\n",
       "      <td>0.0</td>\n",
       "      <td>0.0</td>\n",
       "      <td>0.000000</td>\n",
       "      <td>0.0</td>\n",
       "      <td>0.0</td>\n",
       "      <td>0.0</td>\n",
       "      <td>0.0</td>\n",
       "    </tr>\n",
       "    <tr>\n",
       "      <th>1</th>\n",
       "      <td>0.0</td>\n",
       "      <td>0.510354</td>\n",
       "      <td>0.000000</td>\n",
       "      <td>0.609546</td>\n",
       "      <td>0.000000</td>\n",
       "      <td>0.0</td>\n",
       "      <td>0.0</td>\n",
       "      <td>0.000000</td>\n",
       "      <td>0.606624</td>\n",
       "      <td>0.0</td>\n",
       "      <td>0.0</td>\n",
       "      <td>0.0</td>\n",
       "      <td>0.0</td>\n",
       "      <td>0.0</td>\n",
       "      <td>0.000000</td>\n",
       "      <td>0.0</td>\n",
       "      <td>0.0</td>\n",
       "      <td>0.0</td>\n",
       "      <td>0.0</td>\n",
       "    </tr>\n",
       "    <tr>\n",
       "      <th>2</th>\n",
       "      <td>0.0</td>\n",
       "      <td>0.000000</td>\n",
       "      <td>0.000000</td>\n",
       "      <td>0.000000</td>\n",
       "      <td>0.584570</td>\n",
       "      <td>0.0</td>\n",
       "      <td>0.0</td>\n",
       "      <td>0.000000</td>\n",
       "      <td>0.000000</td>\n",
       "      <td>0.0</td>\n",
       "      <td>0.0</td>\n",
       "      <td>0.0</td>\n",
       "      <td>0.0</td>\n",
       "      <td>0.0</td>\n",
       "      <td>0.811343</td>\n",
       "      <td>0.0</td>\n",
       "      <td>0.0</td>\n",
       "      <td>0.0</td>\n",
       "      <td>0.0</td>\n",
       "    </tr>\n",
       "    <tr>\n",
       "      <th>3</th>\n",
       "      <td>0.0</td>\n",
       "      <td>0.000000</td>\n",
       "      <td>0.000000</td>\n",
       "      <td>0.000000</td>\n",
       "      <td>0.526521</td>\n",
       "      <td>0.0</td>\n",
       "      <td>0.0</td>\n",
       "      <td>0.434446</td>\n",
       "      <td>0.000000</td>\n",
       "      <td>0.0</td>\n",
       "      <td>0.0</td>\n",
       "      <td>0.0</td>\n",
       "      <td>0.0</td>\n",
       "      <td>0.0</td>\n",
       "      <td>0.730775</td>\n",
       "      <td>0.0</td>\n",
       "      <td>0.0</td>\n",
       "      <td>0.0</td>\n",
       "      <td>0.0</td>\n",
       "    </tr>\n",
       "    <tr>\n",
       "      <th>4</th>\n",
       "      <td>0.0</td>\n",
       "      <td>0.000000</td>\n",
       "      <td>0.000000</td>\n",
       "      <td>0.000000</td>\n",
       "      <td>1.000000</td>\n",
       "      <td>0.0</td>\n",
       "      <td>0.0</td>\n",
       "      <td>0.000000</td>\n",
       "      <td>0.000000</td>\n",
       "      <td>0.0</td>\n",
       "      <td>0.0</td>\n",
       "      <td>0.0</td>\n",
       "      <td>0.0</td>\n",
       "      <td>0.0</td>\n",
       "      <td>0.000000</td>\n",
       "      <td>0.0</td>\n",
       "      <td>0.0</td>\n",
       "      <td>0.0</td>\n",
       "      <td>0.0</td>\n",
       "    </tr>\n",
       "  </tbody>\n",
       "</table>\n",
       "</div>"
      ],
      "text/plain": [
       "   action  adventure  animation  children    comedy  crime  documentary  \\\n",
       "0     0.0   0.404930   0.555756  0.483633  0.248198    0.0          0.0   \n",
       "1     0.0   0.510354   0.000000  0.609546  0.000000    0.0          0.0   \n",
       "2     0.0   0.000000   0.000000  0.000000  0.584570    0.0          0.0   \n",
       "3     0.0   0.000000   0.000000  0.000000  0.526521    0.0          0.0   \n",
       "4     0.0   0.000000   0.000000  0.000000  1.000000    0.0          0.0   \n",
       "\n",
       "      drama   fantasy  horror  imax  musical  mystery  noir   romance  scifi  \\\n",
       "0  0.000000  0.481314     0.0   0.0      0.0      0.0   0.0  0.000000    0.0   \n",
       "1  0.000000  0.606624     0.0   0.0      0.0      0.0   0.0  0.000000    0.0   \n",
       "2  0.000000  0.000000     0.0   0.0      0.0      0.0   0.0  0.811343    0.0   \n",
       "3  0.434446  0.000000     0.0   0.0      0.0      0.0   0.0  0.730775    0.0   \n",
       "4  0.000000  0.000000     0.0   0.0      0.0      0.0   0.0  0.000000    0.0   \n",
       "\n",
       "   thriller  war  western  \n",
       "0       0.0  0.0      0.0  \n",
       "1       0.0  0.0      0.0  \n",
       "2       0.0  0.0      0.0  \n",
       "3       0.0  0.0      0.0  \n",
       "4       0.0  0.0      0.0  "
      ]
     },
     "execution_count": 37,
     "metadata": {},
     "output_type": "execute_result"
    }
   ],
   "source": [
    "genre_tfidf_df = pd.DataFrame(tf_idf_matrix.toarray(), columns=tf_idf.get_feature_names_out())\n",
    "genre_tfidf_df.head()"
   ]
  },
  {
   "cell_type": "code",
   "execution_count": 38,
   "id": "2fa5abed",
   "metadata": {},
   "outputs": [
    {
     "data": {
      "text/plain": [
       "(10406, 19)"
      ]
     },
     "execution_count": 38,
     "metadata": {},
     "output_type": "execute_result"
    }
   ],
   "source": [
    "genre_tfidf_df.shape"
   ]
  },
  {
   "cell_type": "code",
   "execution_count": 39,
   "id": "35c8aaf3",
   "metadata": {},
   "outputs": [
    {
     "name": "stdout",
     "output_type": "stream",
     "text": [
      "<class 'pandas.core.indexes.base.Index'>\n",
      "<class 'pandas.core.indexes.range.RangeIndex'>\n"
     ]
    }
   ],
   "source": [
    "print(type(pure_data.index))\n",
    "print(type(genre_tfidf_df.index))"
   ]
  },
  {
   "cell_type": "code",
   "execution_count": 40,
   "id": "f0c5514d",
   "metadata": {},
   "outputs": [],
   "source": [
    "pure_data.reset_index(drop=True, inplace=True)"
   ]
  },
  {
   "cell_type": "markdown",
   "id": "deb3d3b0",
   "metadata": {},
   "source": [
    "Normalisasi & Penggabungan hasil one-hot encoding pada genre"
   ]
  },
  {
   "cell_type": "code",
   "execution_count": 41,
   "id": "ce35e843",
   "metadata": {},
   "outputs": [
    {
     "name": "stderr",
     "output_type": "stream",
     "text": [
      "C:\\Users\\hardi\\AppData\\Local\\Temp\\ipykernel_872\\3538587813.py:2: SettingWithCopyWarning: \n",
      "A value is trying to be set on a copy of a slice from a DataFrame.\n",
      "Try using .loc[row_indexer,col_indexer] = value instead\n",
      "\n",
      "See the caveats in the documentation: https://pandas.pydata.org/pandas-docs/stable/user_guide/indexing.html#returning-a-view-versus-a-copy\n",
      "  pure_data[[\"year_film_normalized\", \"mean_rating_normalized\"]] = scaler.fit_transform(pure_data[[\"year_film\", \"mean_rating\"]])\n",
      "C:\\Users\\hardi\\AppData\\Local\\Temp\\ipykernel_872\\3538587813.py:2: SettingWithCopyWarning: \n",
      "A value is trying to be set on a copy of a slice from a DataFrame.\n",
      "Try using .loc[row_indexer,col_indexer] = value instead\n",
      "\n",
      "See the caveats in the documentation: https://pandas.pydata.org/pandas-docs/stable/user_guide/indexing.html#returning-a-view-versus-a-copy\n",
      "  pure_data[[\"year_film_normalized\", \"mean_rating_normalized\"]] = scaler.fit_transform(pure_data[[\"year_film\", \"mean_rating\"]])\n"
     ]
    }
   ],
   "source": [
    "scaler = MinMaxScaler()\n",
    "pure_data[[\"year_film_normalized\", \"mean_rating_normalized\"]] = scaler.fit_transform(pure_data[[\"year_film\", \"mean_rating\"]])\n",
    "\n",
    "features = pd.concat([genre_tfidf_df, pure_data[[\"year_film_normalized\", \"mean_rating_normalized\"]]], axis=1)"
   ]
  },
  {
   "cell_type": "markdown",
   "id": "b21a5e7a",
   "metadata": {},
   "source": [
    "Feature yang digunakan untuk content-based filtering yaitu Genre, Tahun Film Rilis, dan Rata-Rata Rating"
   ]
  },
  {
   "cell_type": "code",
   "execution_count": 42,
   "id": "0fd8f3f0",
   "metadata": {},
   "outputs": [
    {
     "data": {
      "text/plain": [
       "(10406, 21)"
      ]
     },
     "execution_count": 42,
     "metadata": {},
     "output_type": "execute_result"
    }
   ],
   "source": [
    "features.shape"
   ]
  },
  {
   "cell_type": "code",
   "execution_count": 43,
   "id": "c17792c8",
   "metadata": {},
   "outputs": [
    {
     "data": {
      "text/plain": [
       "action                    0\n",
       "adventure                 0\n",
       "animation                 0\n",
       "children                  0\n",
       "comedy                    0\n",
       "crime                     0\n",
       "documentary               0\n",
       "drama                     0\n",
       "fantasy                   0\n",
       "horror                    0\n",
       "imax                      0\n",
       "musical                   0\n",
       "mystery                   0\n",
       "noir                      0\n",
       "romance                   0\n",
       "scifi                     0\n",
       "thriller                  0\n",
       "war                       0\n",
       "western                   0\n",
       "year_film_normalized      0\n",
       "mean_rating_normalized    0\n",
       "dtype: int64"
      ]
     },
     "execution_count": 43,
     "metadata": {},
     "output_type": "execute_result"
    }
   ],
   "source": [
    "features.isna().sum()"
   ]
  },
  {
   "cell_type": "markdown",
   "id": "d238856b",
   "metadata": {},
   "source": [
    "##### Persiapan Data untuk Collaborative Filtering"
   ]
  },
  {
   "cell_type": "markdown",
   "id": "ae02f915",
   "metadata": {},
   "source": [
    "Mengambil fitur-fitur yang diperlukan untuk Collaborative Filtering pada dataset setelah drop_duplicate dilakukan "
   ]
  },
  {
   "cell_type": "code",
   "execution_count": 109,
   "id": "4558cbb0",
   "metadata": {},
   "outputs": [],
   "source": [
    "get_data = pure_data[['userId', 'movieId', 'rating']].copy()\n",
    "\n",
    "user_cats  = pure_data['userId'].astype('category').cat.categories\n",
    "movie_cats = pure_data['movieId'].astype('category').cat.categories\n",
    "\n",
    "code2user = dict(enumerate(user_cats))\n",
    "user2code = {v:k for k,v in code2user.items()}  \n",
    "\n",
    "code2movie = dict(enumerate(movie_cats))\n",
    "movie2code = {v:k for k,v in code2movie.items()}\n",
    "\n",
    "get_data['userId'] = get_data['userId'].astype('category').cat.codes  \n",
    "get_data['movieId'] = get_data['movieId'].astype('category').cat.codes"
   ]
  },
  {
   "cell_type": "code",
   "execution_count": 110,
   "id": "170f3151",
   "metadata": {},
   "outputs": [],
   "source": [
    "num_user = get_data['userId'].nunique()\n",
    "num_movie = get_data['movieId'].nunique()"
   ]
  },
  {
   "cell_type": "markdown",
   "id": "deecada8",
   "metadata": {},
   "source": [
    "Mempersiapkan dataset agar bisa sesuai dengan model"
   ]
  },
  {
   "cell_type": "code",
   "execution_count": 111,
   "id": "548efcfa",
   "metadata": {},
   "outputs": [],
   "source": [
    "def split_dataframe(df, holdout_fraction=0.1):\n",
    "    test  = df.sample(frac=holdout_fraction, replace=False, random_state=42)\n",
    "    train = df[~df.index.isin(test.index)]\n",
    "    return train, test  \n",
    "\n",
    "def build_rating_sparse_tensor(ratings_df):\n",
    "    indices = ratings_df[['userId','movieId']].to_numpy()\n",
    "    values  = ratings_df['rating'].to_numpy(dtype=np.float32)\n",
    "    return tf.sparse.SparseTensor(indices=indices, values=values, dense_shape=[num_user, num_movie])"
   ]
  },
  {
   "cell_type": "code",
   "execution_count": 112,
   "id": "d1f2f743",
   "metadata": {},
   "outputs": [],
   "source": [
    "train_ratings, test_ratings = split_dataframe(get_data, holdout_fraction=0.15)\n",
    "\n",
    "global_mean = train_ratings['rating'].mean().astype(np.float32)"
   ]
  },
  {
   "cell_type": "code",
   "execution_count": 113,
   "id": "d9a3ce89",
   "metadata": {},
   "outputs": [],
   "source": [
    "A_train = build_rating_sparse_tensor(train_ratings)\n",
    "A_test  = build_rating_sparse_tensor(test_ratings)"
   ]
  },
  {
   "cell_type": "code",
   "execution_count": 114,
   "id": "a3dce03c",
   "metadata": {},
   "outputs": [
    {
     "name": "stdout",
     "output_type": "stream",
     "text": [
      "Num users: 1531, Num movies: 10406\n",
      "Train indices max: [ 1530 10405]\n",
      "Test indices max: [ 1528 10400]\n"
     ]
    }
   ],
   "source": [
    "print(f\"Num users: {num_user}, Num movies: {num_movie}\")\n",
    "print(\"Train indices max:\", np.max(train_ratings[['userId', 'movieId']].to_numpy(), axis=0))  \n",
    "print(\"Test indices max:\", np.max(test_ratings[['userId', 'movieId']].to_numpy(), axis=0)) "
   ]
  },
  {
   "cell_type": "markdown",
   "id": "6577787f",
   "metadata": {},
   "source": [
    "## Modelling Process"
   ]
  },
  {
   "cell_type": "markdown",
   "id": "ee21b99a",
   "metadata": {},
   "source": [
    "Dalam pemodelan untuk sistem rekomendasi dicoba Content-Based Filtering & Collaborative Filtering"
   ]
  },
  {
   "cell_type": "markdown",
   "id": "d08a94b7",
   "metadata": {},
   "source": [
    "#### Content-Based Filtering"
   ]
  },
  {
   "cell_type": "code",
   "execution_count": 115,
   "id": "1d8421df",
   "metadata": {},
   "outputs": [
    {
     "data": {
      "text/html": [
       "<style>#sk-container-id-4 {color: black;background-color: white;}#sk-container-id-4 pre{padding: 0;}#sk-container-id-4 div.sk-toggleable {background-color: white;}#sk-container-id-4 label.sk-toggleable__label {cursor: pointer;display: block;width: 100%;margin-bottom: 0;padding: 0.3em;box-sizing: border-box;text-align: center;}#sk-container-id-4 label.sk-toggleable__label-arrow:before {content: \"▸\";float: left;margin-right: 0.25em;color: #696969;}#sk-container-id-4 label.sk-toggleable__label-arrow:hover:before {color: black;}#sk-container-id-4 div.sk-estimator:hover label.sk-toggleable__label-arrow:before {color: black;}#sk-container-id-4 div.sk-toggleable__content {max-height: 0;max-width: 0;overflow: hidden;text-align: left;background-color: #f0f8ff;}#sk-container-id-4 div.sk-toggleable__content pre {margin: 0.2em;color: black;border-radius: 0.25em;background-color: #f0f8ff;}#sk-container-id-4 input.sk-toggleable__control:checked~div.sk-toggleable__content {max-height: 200px;max-width: 100%;overflow: auto;}#sk-container-id-4 input.sk-toggleable__control:checked~label.sk-toggleable__label-arrow:before {content: \"▾\";}#sk-container-id-4 div.sk-estimator input.sk-toggleable__control:checked~label.sk-toggleable__label {background-color: #d4ebff;}#sk-container-id-4 div.sk-label input.sk-toggleable__control:checked~label.sk-toggleable__label {background-color: #d4ebff;}#sk-container-id-4 input.sk-hidden--visually {border: 0;clip: rect(1px 1px 1px 1px);clip: rect(1px, 1px, 1px, 1px);height: 1px;margin: -1px;overflow: hidden;padding: 0;position: absolute;width: 1px;}#sk-container-id-4 div.sk-estimator {font-family: monospace;background-color: #f0f8ff;border: 1px dotted black;border-radius: 0.25em;box-sizing: border-box;margin-bottom: 0.5em;}#sk-container-id-4 div.sk-estimator:hover {background-color: #d4ebff;}#sk-container-id-4 div.sk-parallel-item::after {content: \"\";width: 100%;border-bottom: 1px solid gray;flex-grow: 1;}#sk-container-id-4 div.sk-label:hover label.sk-toggleable__label {background-color: #d4ebff;}#sk-container-id-4 div.sk-serial::before {content: \"\";position: absolute;border-left: 1px solid gray;box-sizing: border-box;top: 0;bottom: 0;left: 50%;z-index: 0;}#sk-container-id-4 div.sk-serial {display: flex;flex-direction: column;align-items: center;background-color: white;padding-right: 0.2em;padding-left: 0.2em;position: relative;}#sk-container-id-4 div.sk-item {position: relative;z-index: 1;}#sk-container-id-4 div.sk-parallel {display: flex;align-items: stretch;justify-content: center;background-color: white;position: relative;}#sk-container-id-4 div.sk-item::before, #sk-container-id-4 div.sk-parallel-item::before {content: \"\";position: absolute;border-left: 1px solid gray;box-sizing: border-box;top: 0;bottom: 0;left: 50%;z-index: -1;}#sk-container-id-4 div.sk-parallel-item {display: flex;flex-direction: column;z-index: 1;position: relative;background-color: white;}#sk-container-id-4 div.sk-parallel-item:first-child::after {align-self: flex-end;width: 50%;}#sk-container-id-4 div.sk-parallel-item:last-child::after {align-self: flex-start;width: 50%;}#sk-container-id-4 div.sk-parallel-item:only-child::after {width: 0;}#sk-container-id-4 div.sk-dashed-wrapped {border: 1px dashed gray;margin: 0 0.4em 0.5em 0.4em;box-sizing: border-box;padding-bottom: 0.4em;background-color: white;}#sk-container-id-4 div.sk-label label {font-family: monospace;font-weight: bold;display: inline-block;line-height: 1.2em;}#sk-container-id-4 div.sk-label-container {text-align: center;}#sk-container-id-4 div.sk-container {/* jupyter's `normalize.less` sets `[hidden] { display: none; }` but bootstrap.min.css set `[hidden] { display: none !important; }` so we also need the `!important` here to be able to override the default hidden behavior on the sphinx rendered scikit-learn.org. See: https://github.com/scikit-learn/scikit-learn/issues/21755 */display: inline-block !important;position: relative;}#sk-container-id-4 div.sk-text-repr-fallback {display: none;}</style><div id=\"sk-container-id-4\" class=\"sk-top-container\"><div class=\"sk-text-repr-fallback\"><pre>NearestNeighbors(metric=&#x27;cosine&#x27;, n_jobs=-1, n_neighbors=7)</pre><b>In a Jupyter environment, please rerun this cell to show the HTML representation or trust the notebook. <br />On GitHub, the HTML representation is unable to render, please try loading this page with nbviewer.org.</b></div><div class=\"sk-container\" hidden><div class=\"sk-item\"><div class=\"sk-estimator sk-toggleable\"><input class=\"sk-toggleable__control sk-hidden--visually\" id=\"sk-estimator-id-4\" type=\"checkbox\" checked><label for=\"sk-estimator-id-4\" class=\"sk-toggleable__label sk-toggleable__label-arrow\">NearestNeighbors</label><div class=\"sk-toggleable__content\"><pre>NearestNeighbors(metric=&#x27;cosine&#x27;, n_jobs=-1, n_neighbors=7)</pre></div></div></div></div></div>"
      ],
      "text/plain": [
       "NearestNeighbors(metric='cosine', n_jobs=-1, n_neighbors=7)"
      ]
     },
     "execution_count": 115,
     "metadata": {},
     "output_type": "execute_result"
    }
   ],
   "source": [
    "model_knn = NearestNeighbors(metric='cosine', n_neighbors=7, n_jobs=-1)\n",
    "model_knn.fit(features)"
   ]
  },
  {
   "cell_type": "markdown",
   "id": "1b48063e",
   "metadata": {},
   "source": [
    "#### Dengan Collaborative Filtering"
   ]
  },
  {
   "cell_type": "markdown",
   "id": "ed2be42d",
   "metadata": {},
   "source": [
    "Dalam collaborative filtering ini, akan dicoba untuk memberikan rekomendasi berdasarkan user dan item"
   ]
  },
  {
   "cell_type": "code",
   "execution_count": 123,
   "id": "83e83fc3",
   "metadata": {},
   "outputs": [],
   "source": [
    "class CFModel:\n",
    "    def __init__(self, num_users, num_movies, embedding_dim=10, init_stddev=0.1, reg_lambda=1e-4, lr=0.01):\n",
    "        \n",
    "        # embedding & bias vars\n",
    "        self.U = tf.Variable(tf.random.normal([num_users, embedding_dim],\n",
    "                                              stddev=init_stddev), name='U')\n",
    "        self.V = tf.Variable(tf.random.normal([num_movies, embedding_dim],\n",
    "                                              stddev=init_stddev), name='V')\n",
    "        self.b_u = tf.Variable(tf.zeros([num_users]), name='b_u')\n",
    "        self.b_i = tf.Variable(tf.zeros([num_movies]), name='b_i')\n",
    "        self.mu  = tf.constant(global_mean, name='global_mean')\n",
    "        \n",
    "        self.reg_lambda = reg_lambda\n",
    "        self.optimizer  = tf.optimizers.Adam(learning_rate=lr)\n",
    "\n",
    "    def _mse_and_rmse(self, A_sparse):\n",
    "        \"\"\"\n",
    "        Hitung RMSE pada sparse tensor A_sparse.\n",
    "        Center prediksi dengan +mu + b_u + b_i.\n",
    "        \"\"\"\n",
    "        # dot-product U[u]·V[i]\n",
    "        pred_scores = tf.gather_nd(\n",
    "            tf.matmul(self.U, self.V, transpose_b=True),\n",
    "            A_sparse.indices\n",
    "        )\n",
    "        # ambil bias\n",
    "        bu = tf.gather(self.b_u, A_sparse.indices[:,0])\n",
    "        bi = tf.gather(self.b_i, A_sparse.indices[:,1])\n",
    "        \n",
    "        # final pred\n",
    "        preds = self.mu + bu + bi + pred_scores\n",
    "        errors = A_sparse.values - preds\n",
    "        mse = tf.reduce_mean(tf.square(errors))\n",
    "        rmse = tf.sqrt(mse)\n",
    "        return mse, rmse\n",
    "\n",
    "    @tf.function\n",
    "    def train_step(self, A_sparse):\n",
    "        with tf.GradientTape() as tape:\n",
    "            mse, _ = self._mse_and_rmse(A_sparse)\n",
    "            # reg term\n",
    "            reg = self.reg_lambda * (\n",
    "                tf.nn.l2_loss(self.U) + tf.nn.l2_loss(self.V)\n",
    "                + tf.nn.l2_loss(self.b_u) + tf.nn.l2_loss(self.b_i)\n",
    "            )\n",
    "            loss = mse + reg\n",
    "        grads = tape.gradient(loss, [self.U, self.V, self.b_u, self.b_i])\n",
    "        self.optimizer.apply_gradients(zip(grads, [self.U, self.V, self.b_u, self.b_i]))\n",
    "        return loss\n",
    "\n",
    "    def train(self, A_train, A_test, num_iters=100, eval_interval=10, plot=True):\n",
    "        history = {'train_rmse': [], 'test_rmse': []}\n",
    "\n",
    "        for it in range(1, num_iters+1):\n",
    "            self.train_step(A_train)\n",
    "\n",
    "            if it % eval_interval == 0 or it == num_iters:\n",
    "                _, train_rmse = self._mse_and_rmse(A_train)\n",
    "                _, test_rmse  = self._mse_and_rmse(A_test)\n",
    "                history['train_rmse'].append(train_rmse.numpy())\n",
    "                history['test_rmse'].append(test_rmse.numpy())\n",
    "                print(f\"\\rIter {it:3d} — train_RMSE: {train_rmse:.4f}, \"\n",
    "                      f\"test_RMSE: {test_rmse:.4f}\", end='')\n",
    "\n",
    "        print()\n",
    "\n",
    "        if plot:\n",
    "            plt.figure(figsize=(8,5))\n",
    "            plt.plot(history['train_rmse'], label='train RMSE')\n",
    "            plt.plot(history['test_rmse'],  label='test RMSE')\n",
    "            plt.xlabel('Evaluation step')\n",
    "            plt.ylabel('RMSE')\n",
    "            plt.legend()\n",
    "            plt.show()\n",
    "\n",
    "        return history\n",
    "    \n",
    "    @property\n",
    "    def embeddings(self):\n",
    "        return {\n",
    "            \"userId\": self.U.numpy(),\n",
    "            \"movieId\": self.V.numpy()\n",
    "        }"
   ]
  },
  {
   "cell_type": "code",
   "execution_count": 126,
   "id": "3b53d72d",
   "metadata": {},
   "outputs": [],
   "source": [
    "model = CFModel(num_users=num_user, num_movies=num_movie, embedding_dim=5, init_stddev=0.1, reg_lambda=1e-4, lr=0.005)"
   ]
  },
  {
   "cell_type": "code",
   "execution_count": 127,
   "id": "23e6b1b9",
   "metadata": {},
   "outputs": [
    {
     "name": "stdout",
     "output_type": "stream",
     "text": [
      "Iter 2500 — train_RMSE: 0.1209, test_RMSE: 0.9912\n"
     ]
    },
    {
     "data": {
      "image/png": "[encoded data removed]",
      "text/plain": [
       "<Figure size 800x500 with 1 Axes>"
      ]
     },
     "metadata": {},
     "output_type": "display_data"
    }
   ],
   "source": [
    "history = model.train(A_train, A_test, num_iters=2500, eval_interval=15, plot=True)"
   ]
  },
  {
   "cell_type": "markdown",
   "id": "9b82dede",
   "metadata": {},
   "source": [
    "## Evaluation"
   ]
  },
  {
   "cell_type": "markdown",
   "id": "3ffd8a7e",
   "metadata": {},
   "source": [
    "##### Evaluasi pada hasil Content-Based Filtering"
   ]
  },
  {
   "cell_type": "code",
   "execution_count": 91,
   "id": "1f7dd381",
   "metadata": {},
   "outputs": [],
   "source": [
    "def get_knn_cosine_recommendation(movie_title, df, model, features, n_recommendations=5):\n",
    "    matches = df[df['title'].str.lower() == movie_title.lower()]\n",
    "    if matches.empty:\n",
    "        raise ValueError(f\"Film '{movie_title}' tidak ditemukan.\")\n",
    "\n",
    "    movie_index = matches.index[0]\n",
    "    movie_vector = features.iloc[movie_index].values.reshape(1, -1)\n",
    "    \n",
    "    distances, indices = model.kneighbors(movie_vector, n_neighbors=n_recommendations + 1)\n",
    "    similarities = 1 - distances[0][1:]\n",
    "    titles = df.iloc[indices[0][1:]]['title'].values\n",
    "    \n",
    "    return titles, similarities"
   ]
  },
  {
   "cell_type": "code",
   "execution_count": 143,
   "id": "885f606e",
   "metadata": {},
   "outputs": [
    {
     "name": "stderr",
     "output_type": "stream",
     "text": [
      "c:\\Users\\hardi\\anaconda3\\envs\\py310\\lib\\site-packages\\sklearn\\base.py:439: UserWarning: X does not have valid feature names, but NearestNeighbors was fitted with feature names\n",
      "  warnings.warn(\n"
     ]
    },
    {
     "data": {
      "text/html": [
       "<div>\n",
       "<style scoped>\n",
       "    .dataframe tbody tr th:only-of-type {\n",
       "        vertical-align: middle;\n",
       "    }\n",
       "\n",
       "    .dataframe tbody tr th {\n",
       "        vertical-align: top;\n",
       "    }\n",
       "\n",
       "    .dataframe thead th {\n",
       "        text-align: right;\n",
       "    }\n",
       "</style>\n",
       "<table border=\"1\" class=\"dataframe\">\n",
       "  <thead>\n",
       "    <tr style=\"text-align: right;\">\n",
       "      <th></th>\n",
       "      <th>title</th>\n",
       "      <th>score</th>\n",
       "      <th>genres</th>\n",
       "    </tr>\n",
       "  </thead>\n",
       "  <tbody>\n",
       "    <tr>\n",
       "      <th>0</th>\n",
       "      <td>Toy Story 2</td>\n",
       "      <td>0.999643</td>\n",
       "      <td>Adventure Animation Children Comedy Fantasy</td>\n",
       "    </tr>\n",
       "    <tr>\n",
       "      <th>1</th>\n",
       "      <td>Kiki's Delivery Service (Majo no takkyûbin)</td>\n",
       "      <td>0.999366</td>\n",
       "      <td>Adventure Animation Children Comedy Fantasy</td>\n",
       "    </tr>\n",
       "    <tr>\n",
       "      <th>2</th>\n",
       "      <td>Emperor's New Groove, The</td>\n",
       "      <td>0.997915</td>\n",
       "      <td>Adventure Animation Children Comedy Fantasy</td>\n",
       "    </tr>\n",
       "    <tr>\n",
       "      <th>3</th>\n",
       "      <td>Antz</td>\n",
       "      <td>0.996694</td>\n",
       "      <td>Adventure Animation Children Comedy Fantasy</td>\n",
       "    </tr>\n",
       "    <tr>\n",
       "      <th>4</th>\n",
       "      <td>Shrek the Third</td>\n",
       "      <td>0.989777</td>\n",
       "      <td>Adventure Animation Children Comedy Fantasy</td>\n",
       "    </tr>\n",
       "    <tr>\n",
       "      <th>5</th>\n",
       "      <td>Ant Bully, The</td>\n",
       "      <td>0.988760</td>\n",
       "      <td>Adventure Animation Children Comedy Fantasy</td>\n",
       "    </tr>\n",
       "    <tr>\n",
       "      <th>6</th>\n",
       "      <td>Spirited Away (Sen to Chihiro no kamikakushi)</td>\n",
       "      <td>0.986443</td>\n",
       "      <td>Adventure Animation Children Fantasy</td>\n",
       "    </tr>\n",
       "    <tr>\n",
       "      <th>7</th>\n",
       "      <td>Cat Returns, The (Neko no ongaeshi)</td>\n",
       "      <td>0.984466</td>\n",
       "      <td>Adventure Animation Children Fantasy</td>\n",
       "    </tr>\n",
       "    <tr>\n",
       "      <th>8</th>\n",
       "      <td>Castle in the Sky (Tenkû no shiro Rapyuta)</td>\n",
       "      <td>0.984236</td>\n",
       "      <td>Adventure Animation Children Fantasy</td>\n",
       "    </tr>\n",
       "    <tr>\n",
       "      <th>9</th>\n",
       "      <td>Wild, The</td>\n",
       "      <td>0.978569</td>\n",
       "      <td>Adventure Animation Children Comedy Fantasy</td>\n",
       "    </tr>\n",
       "  </tbody>\n",
       "</table>\n",
       "</div>"
      ],
      "text/plain": [
       "                                           title     score  \\\n",
       "0                                    Toy Story 2  0.999643   \n",
       "1    Kiki's Delivery Service (Majo no takkyûbin)  0.999366   \n",
       "2                      Emperor's New Groove, The  0.997915   \n",
       "3                                           Antz  0.996694   \n",
       "4                                Shrek the Third  0.989777   \n",
       "5                                 Ant Bully, The  0.988760   \n",
       "6  Spirited Away (Sen to Chihiro no kamikakushi)  0.986443   \n",
       "7            Cat Returns, The (Neko no ongaeshi)  0.984466   \n",
       "8     Castle in the Sky (Tenkû no shiro Rapyuta)  0.984236   \n",
       "9                                      Wild, The  0.978569   \n",
       "\n",
       "                                        genres  \n",
       "0  Adventure Animation Children Comedy Fantasy  \n",
       "1  Adventure Animation Children Comedy Fantasy  \n",
       "2  Adventure Animation Children Comedy Fantasy  \n",
       "3  Adventure Animation Children Comedy Fantasy  \n",
       "4  Adventure Animation Children Comedy Fantasy  \n",
       "5  Adventure Animation Children Comedy Fantasy  \n",
       "6         Adventure Animation Children Fantasy  \n",
       "7         Adventure Animation Children Fantasy  \n",
       "8         Adventure Animation Children Fantasy  \n",
       "9  Adventure Animation Children Comedy Fantasy  "
      ]
     },
     "metadata": {},
     "output_type": "display_data"
    }
   ],
   "source": [
    "titles, scores = get_knn_cosine_recommendation(\"Toy Story\", pure_data, model_knn, features, n_recommendations=10)\n",
    "\n",
    "df_recs = pd.DataFrame({\n",
    "    'title': titles,\n",
    "    'score': scores\n",
    "})\n",
    "df_recs = pd.merge(df_recs, pure_data[['title','genres']], on='title', how='inner')\n",
    "\n",
    "display(df_recs)"
   ]
  },
  {
   "cell_type": "markdown",
   "id": "a23f5a28",
   "metadata": {},
   "source": [
    "  - Untuk rekomendasi pada user yang menonton Toy Story, hasilnya menunjukkan bahwa rekomendasinya memiliki genre yang hampir identik \"Adventure Animation Children Comedy Fantasy\". Selain itu, judul-judul film berasal dari studio dan gaya yang serupa (misal: Pixar, DreamWorks, Studio Ghibli).\n",
    "  - Jika melihat nilai Cosine Similarity, nilai kesamaannya sangat tinggi (mendekati 1), sehingga jika melihat juga ke diversitynya, rekomendasi ini kurang beragam namun cocok untuk bisa mempertahankan relevansi.\n",
    "  - Jika melihat dari sisi Novelty, rekomendasi ini kurang memberikan kebaruan. Cenderung merekomendasikan film yang sudah sangat dikenal user."
   ]
  },
  {
   "cell_type": "markdown",
   "id": "71525747",
   "metadata": {},
   "source": [
    "##### Evaluasi pada hasil Collaborative Filtering"
   ]
  },
  {
   "cell_type": "code",
   "execution_count": 128,
   "id": "ead30483",
   "metadata": {},
   "outputs": [],
   "source": [
    "def safe_normalize(X, axis=1):\n",
    "    norms = np.linalg.norm(X, axis=axis, keepdims=True)\n",
    "    return X / (norms + 1e-8)\n",
    "\n",
    "def compute_scores(u_emb, V, measure='dot'):\n",
    "    if measure == 'cosine':\n",
    "        u_emb = u_emb / (np.linalg.norm(u_emb) + 1e-8)\n",
    "        Vn = safe_normalize(V, axis=1)\n",
    "        return u_emb.dot(Vn.T)\n",
    "    else:  # dot\n",
    "        return u_emb.dot(V.T)"
   ]
  },
  {
   "cell_type": "code",
   "execution_count": 129,
   "id": "af135c17",
   "metadata": {},
   "outputs": [],
   "source": [
    "def recommend_for_user(model, raw_user_id, k=6, measure='cosine', \n",
    "                       train_df=train_ratings, movies_df=pure_data):\n",
    "\n",
    "    u_code = user2code.get(raw_user_id)\n",
    "    if u_code is None:\n",
    "        raise ValueError(f\"User {raw_user_id} not found\")\n",
    "\n",
    "    U = model.U.numpy()\n",
    "    V = model.V.numpy()\n",
    "\n",
    "    scores = compute_scores(U[u_code], V, measure)\n",
    "\n",
    "    rated_codes = train_df.loc[train_df.userId==u_code, 'movieId'].values\n",
    "    scores[rated_codes] = -np.inf\n",
    "\n",
    "    topk_codes = np.argpartition(scores, -k)[-k:]\n",
    "    topk_codes = topk_codes[np.argsort(scores[topk_codes])[::-1]]\n",
    "\n",
    "    topk_movie_ids = [ code2movie[c] for c in topk_codes ]\n",
    "\n",
    "    recs = movies_df[movies_df.movieId.isin(topk_movie_ids)].copy()\n",
    "    recs['score'] = [ scores[c] for c in topk_codes ]\n",
    "\n",
    "    recs['rank']  = recs['movieId'].map({m:i for i,m in enumerate(topk_movie_ids)})\n",
    "    return recs.sort_values('rank')[['movieId','title','genres','score']]"
   ]
  },
  {
   "cell_type": "code",
   "execution_count": 130,
   "id": "779e3283",
   "metadata": {},
   "outputs": [],
   "source": [
    "def movie_neighbors(model, title_substring, k=6, measure='cosine', movies_df=pure_data):\n",
    "\n",
    "    candidates = movies_df[movies_df.title.str.contains(title_substring, case=False)]\n",
    "    if candidates.empty:\n",
    "        raise ValueError(f\"No movie matches “{title_substring}”\")\n",
    "    orig_id  = candidates.iloc[0].movieId\n",
    "    m_code   = movie2code[orig_id]\n",
    "\n",
    "    V = model.V.numpy()\n",
    "    scores = compute_scores(V[m_code], V, measure)\n",
    "    scores[m_code] = -np.inf\n",
    "\n",
    "    topk = np.argpartition(scores, -k)[-k:]\n",
    "    topk = topk[np.argsort(scores[topk])[::-1]]\n",
    "    topk_ids = [ code2movie[c] for c in topk ]\n",
    "\n",
    "    neigh = movies_df[movies_df.movieId.isin(topk_ids)].copy()\n",
    "    neigh['score'] = [ scores[c] for c in topk ]\n",
    "    neigh['rank']  = neigh['movieId'].map({m:i for i,m in enumerate(topk_ids)})\n",
    "    return neigh.sort_values('rank')[['movieId','title','genres','score']]"
   ]
  },
  {
   "cell_type": "markdown",
   "id": "a6577b8a",
   "metadata": {},
   "source": [
    "Penerapan rekomendasi data berdasarkan user"
   ]
  },
  {
   "cell_type": "code",
   "execution_count": 131,
   "id": "2ee44929",
   "metadata": {},
   "outputs": [
    {
     "name": "stdout",
     "output_type": "stream",
     "text": [
      "Count per genre:\n",
      " genre_list\n",
      "Drama        64\n",
      "Romance      23\n",
      "Comedy       15\n",
      "Crime         6\n",
      "Mystery       5\n",
      "Thriller      4\n",
      "Fantasy       4\n",
      "War           4\n",
      "Action        3\n",
      "Adventure     2\n",
      "Children      1\n",
      "Musical       1\n",
      "Horror        1\n",
      "Scifi         1\n",
      "Name: count, dtype: int64 \n",
      "\n"
     ]
    }
   ],
   "source": [
    "user10 = pure_data[pure_data['userId'] == 10]\n",
    "user10_exploded = user10.explode('genre_list')\n",
    "\n",
    "genre_counts = user10_exploded['genre_list'].value_counts()\n",
    "genre_props  = user10_exploded['genre_list'].value_counts(normalize=True)\n",
    "\n",
    "print(\"Count per genre:\\n\", genre_counts, \"\\n\")"
   ]
  },
  {
   "cell_type": "code",
   "execution_count": 136,
   "id": "faab86f2",
   "metadata": {},
   "outputs": [
    {
     "data": {
      "text/html": [
       "<div>\n",
       "<style scoped>\n",
       "    .dataframe tbody tr th:only-of-type {\n",
       "        vertical-align: middle;\n",
       "    }\n",
       "\n",
       "    .dataframe tbody tr th {\n",
       "        vertical-align: top;\n",
       "    }\n",
       "\n",
       "    .dataframe thead th {\n",
       "        text-align: right;\n",
       "    }\n",
       "</style>\n",
       "<table border=\"1\" class=\"dataframe\">\n",
       "  <thead>\n",
       "    <tr style=\"text-align: right;\">\n",
       "      <th></th>\n",
       "      <th>movieId</th>\n",
       "      <th>title</th>\n",
       "      <th>genres</th>\n",
       "      <th>score</th>\n",
       "    </tr>\n",
       "  </thead>\n",
       "  <tbody>\n",
       "    <tr>\n",
       "      <th>5048</th>\n",
       "      <td>5195</td>\n",
       "      <td>Zombie Lake (Le Lac des morts vivants)</td>\n",
       "      <td>Horror</td>\n",
       "      <td>0.999521</td>\n",
       "    </tr>\n",
       "    <tr>\n",
       "      <th>10362</th>\n",
       "      <td>64508</td>\n",
       "      <td>Starship Troopers 3: Marauder</td>\n",
       "      <td>Action Scifi War</td>\n",
       "      <td>0.999521</td>\n",
       "    </tr>\n",
       "    <tr>\n",
       "      <th>9126</th>\n",
       "      <td>40752</td>\n",
       "      <td>Takeshis'</td>\n",
       "      <td>Comedy Drama</td>\n",
       "      <td>0.999521</td>\n",
       "    </tr>\n",
       "    <tr>\n",
       "      <th>10405</th>\n",
       "      <td>65133</td>\n",
       "      <td>Blackadder Back &amp; Forth</td>\n",
       "      <td>Comedy</td>\n",
       "      <td>0.999521</td>\n",
       "    </tr>\n",
       "    <tr>\n",
       "      <th>9001</th>\n",
       "      <td>34767</td>\n",
       "      <td>My Date with Drew</td>\n",
       "      <td>Comedy Documentary Romance</td>\n",
       "      <td>0.999521</td>\n",
       "    </tr>\n",
       "    <tr>\n",
       "      <th>8855</th>\n",
       "      <td>32882</td>\n",
       "      <td>Big Store, The</td>\n",
       "      <td>Comedy</td>\n",
       "      <td>0.999521</td>\n",
       "    </tr>\n",
       "    <tr>\n",
       "      <th>9201</th>\n",
       "      <td>43391</td>\n",
       "      <td>Matti: Hell Is for Heroes (Matti)</td>\n",
       "      <td>Comedy Drama</td>\n",
       "      <td>0.999521</td>\n",
       "    </tr>\n",
       "    <tr>\n",
       "      <th>10167</th>\n",
       "      <td>61394</td>\n",
       "      <td>Onion Movie, The</td>\n",
       "      <td>Comedy</td>\n",
       "      <td>0.999521</td>\n",
       "    </tr>\n",
       "    <tr>\n",
       "      <th>10299</th>\n",
       "      <td>63458</td>\n",
       "      <td>Critters 4</td>\n",
       "      <td>Comedy Horror Scifi</td>\n",
       "      <td>0.999521</td>\n",
       "    </tr>\n",
       "    <tr>\n",
       "      <th>10087</th>\n",
       "      <td>60363</td>\n",
       "      <td>Zombie Strippers!</td>\n",
       "      <td>Comedy Horror</td>\n",
       "      <td>0.999521</td>\n",
       "    </tr>\n",
       "  </tbody>\n",
       "</table>\n",
       "</div>"
      ],
      "text/plain": [
       "       movieId                                   title  \\\n",
       "5048      5195  Zombie Lake (Le Lac des morts vivants)   \n",
       "10362    64508           Starship Troopers 3: Marauder   \n",
       "9126     40752                               Takeshis'   \n",
       "10405    65133                 Blackadder Back & Forth   \n",
       "9001     34767                       My Date with Drew   \n",
       "8855     32882                          Big Store, The   \n",
       "9201     43391       Matti: Hell Is for Heroes (Matti)   \n",
       "10167    61394                        Onion Movie, The   \n",
       "10299    63458                              Critters 4   \n",
       "10087    60363                       Zombie Strippers!   \n",
       "\n",
       "                           genres     score  \n",
       "5048                       Horror  0.999521  \n",
       "10362            Action Scifi War  0.999521  \n",
       "9126                 Comedy Drama  0.999521  \n",
       "10405                      Comedy  0.999521  \n",
       "9001   Comedy Documentary Romance  0.999521  \n",
       "8855                       Comedy  0.999521  \n",
       "9201                 Comedy Drama  0.999521  \n",
       "10167                      Comedy  0.999521  \n",
       "10299         Comedy Horror Scifi  0.999521  \n",
       "10087               Comedy Horror  0.999521  "
      ]
     },
     "metadata": {},
     "output_type": "display_data"
    }
   ],
   "source": [
    "user_recs = recommend_for_user(model, raw_user_id=10, k=10, measure='cosine')\n",
    "display(user_recs)"
   ]
  },
  {
   "cell_type": "markdown",
   "id": "7db20e11",
   "metadata": {},
   "source": [
    "  - Untuk rekomendasi berdasarkan preferensi user, diupayakan untuk menyesuaikan hasil rekomendasi dengan kecenderungan genre yang telah ditonton oleh user tertentu. Jika melihat nilai Cosine Similaritynya, hasilnya menunjukkan bahwa sebagian besar rekomendasinya masih sesuai dengan preferensi user,namun beberapa film horror/sci-fi masuk padahal itu bukan preferensi utama user.\n",
    "  - Jika melihat nilai Novelty, terdapat judul-judul seperti Zombie Lake, Zombie Strippers!, dan The Onion Movie adalah film kurang terkenal di kalangan umum. Sehingga ini bisa untuk merekomendasikan film yang jarang muncul, memberi pengalaman baru.\n",
    "  - Jika melihat dari sisi Diversity, beberapa film menyertakan kombinasi genre unik (e.g. Comedy Horror, Comedy Documentary Romance), yang menandakan bahwa nilai diversity cukup tinggi. Cocok untuk user yang suka eksplorasi."
   ]
  },
  {
   "cell_type": "markdown",
   "id": "b47bb90f",
   "metadata": {},
   "source": [
    "Penerapan rekomendasi berdasarkan item (movie)"
   ]
  },
  {
   "cell_type": "code",
   "execution_count": 142,
   "id": "20feb506",
   "metadata": {},
   "outputs": [
    {
     "data": {
      "text/html": [
       "<div>\n",
       "<style scoped>\n",
       "    .dataframe tbody tr th:only-of-type {\n",
       "        vertical-align: middle;\n",
       "    }\n",
       "\n",
       "    .dataframe tbody tr th {\n",
       "        vertical-align: top;\n",
       "    }\n",
       "\n",
       "    .dataframe thead th {\n",
       "        text-align: right;\n",
       "    }\n",
       "</style>\n",
       "<table border=\"1\" class=\"dataframe\">\n",
       "  <thead>\n",
       "    <tr style=\"text-align: right;\">\n",
       "      <th></th>\n",
       "      <th>movieId</th>\n",
       "      <th>title</th>\n",
       "      <th>genres</th>\n",
       "      <th>score</th>\n",
       "    </tr>\n",
       "  </thead>\n",
       "  <tbody>\n",
       "    <tr>\n",
       "      <th>2265</th>\n",
       "      <td>2358</td>\n",
       "      <td>Savior</td>\n",
       "      <td>Drama War</td>\n",
       "      <td>2.153048e-24</td>\n",
       "    </tr>\n",
       "    <tr>\n",
       "      <th>1790</th>\n",
       "      <td>1878</td>\n",
       "      <td>Woo</td>\n",
       "      <td>Comedy Romance</td>\n",
       "      <td>2.190811e-24</td>\n",
       "    </tr>\n",
       "    <tr>\n",
       "      <th>10114</th>\n",
       "      <td>60735</td>\n",
       "      <td>Shotgun Stories</td>\n",
       "      <td>Drama Thriller</td>\n",
       "      <td>2.032970e-24</td>\n",
       "    </tr>\n",
       "    <tr>\n",
       "      <th>8004</th>\n",
       "      <td>8845</td>\n",
       "      <td>No End (Bez konca)</td>\n",
       "      <td>Drama</td>\n",
       "      <td>2.150758e-24</td>\n",
       "    </tr>\n",
       "    <tr>\n",
       "      <th>9687</th>\n",
       "      <td>53833</td>\n",
       "      <td>David Holzman's Diary</td>\n",
       "      <td>Documentary Drama</td>\n",
       "      <td>2.063623e-24</td>\n",
       "    </tr>\n",
       "    <tr>\n",
       "      <th>8819</th>\n",
       "      <td>32389</td>\n",
       "      <td>Deep Crimson (Profundo carmesí)</td>\n",
       "      <td>Crime Drama</td>\n",
       "      <td>2.150757e-24</td>\n",
       "    </tr>\n",
       "    <tr>\n",
       "      <th>5588</th>\n",
       "      <td>5749</td>\n",
       "      <td>Ghost Story</td>\n",
       "      <td>Drama Horror</td>\n",
       "      <td>2.153047e-24</td>\n",
       "    </tr>\n",
       "    <tr>\n",
       "      <th>4427</th>\n",
       "      <td>4561</td>\n",
       "      <td>Waxwork</td>\n",
       "      <td>Comedy Horror</td>\n",
       "      <td>2.153047e-24</td>\n",
       "    </tr>\n",
       "    <tr>\n",
       "      <th>1758</th>\n",
       "      <td>1843</td>\n",
       "      <td>Slappy and the Stinkers</td>\n",
       "      <td>Children Comedy</td>\n",
       "      <td>2.230936e-24</td>\n",
       "    </tr>\n",
       "    <tr>\n",
       "      <th>6116</th>\n",
       "      <td>6285</td>\n",
       "      <td>Levity</td>\n",
       "      <td>Drama</td>\n",
       "      <td>2.153047e-24</td>\n",
       "    </tr>\n",
       "  </tbody>\n",
       "</table>\n",
       "</div>"
      ],
      "text/plain": [
       "       movieId                            title             genres  \\\n",
       "2265      2358                           Savior          Drama War   \n",
       "1790      1878                              Woo     Comedy Romance   \n",
       "10114    60735                  Shotgun Stories     Drama Thriller   \n",
       "8004      8845               No End (Bez konca)              Drama   \n",
       "9687     53833            David Holzman's Diary  Documentary Drama   \n",
       "8819     32389  Deep Crimson (Profundo carmesí)        Crime Drama   \n",
       "5588      5749                      Ghost Story       Drama Horror   \n",
       "4427      4561                          Waxwork      Comedy Horror   \n",
       "1758      1843          Slappy and the Stinkers    Children Comedy   \n",
       "6116      6285                           Levity              Drama   \n",
       "\n",
       "              score  \n",
       "2265   2.153048e-24  \n",
       "1790   2.190811e-24  \n",
       "10114  2.032970e-24  \n",
       "8004   2.150758e-24  \n",
       "9687   2.063623e-24  \n",
       "8819   2.150757e-24  \n",
       "5588   2.153047e-24  \n",
       "4427   2.153047e-24  \n",
       "1758   2.230936e-24  \n",
       "6116   2.153047e-24  "
      ]
     },
     "metadata": {},
     "output_type": "display_data"
    }
   ],
   "source": [
    "movie_recs = movie_neighbors(model, \"Toy Story\", k=10, measure='cosine')\n",
    "display(movie_recs)"
   ]
  },
  {
   "cell_type": "markdown",
   "id": "e822a1eb",
   "metadata": {},
   "source": [
    "  - Rekomendasi dilakukan berdasarkan preferensi film yang telah ditonton. Jika melihat nilai Cosine Similaritynya, hasilnya menunjukkan bahwa sebagian besar rekomendasinya banyak yang tidak sesuai dengan genre film Toy Story dan nilainya tergolong sangat rendah.\n",
    "  - Jika melihat nilai Novelty dan Diversity, nampaknya sangat tinggi karena memberikan rekomendasi film yang kurang dikenal pengguna berdasarkan film yang telah ditonton."
   ]
  },
  {
   "cell_type": "markdown",
   "id": "103b3367",
   "metadata": {},
   "source": [
    "Kesimpulan akhir:\n",
    "- Dengan menggunakan Content-Based Filtering, hasilnya sangat genre-driven dan relevan dengan film asal (misalnya Toy Story → film anak-anak, animasi, dll) yang bisa digunakan untuk tetap menjaga relevasi konten yang ditonton pengguna, tetapi kurang bisa memberikan variasi rekomendasi (novelty dan diversitynya rendah) yang lebih terhadap user.\n",
    "- Dengan menggunakan Collaborative Filtering, hasilnya dapat menemukan hubungan tersembunyi antar item dan antar user serta bisa merekomendasikan hal di luar genre yang kelihatan. Namun, untuk memberikan rekomendasi berdasarkan film yang telah ditonton, kurang memberikan hasil yang baik meskipun telah memberikan keragaman dalam rekomendasi filmnya\n",
    "- Content-Based cocok untuk genre match, interpretasi eksplisit, dan ketika kita tahu apa yang mirip. Collaborative Filtering unggul dalam menemukan pola tersembunyi yang tidak bisa dilihat dari metadata saja, serta memberikan novelty dan diversity lebih tinggi."
   ]
  }
 ],
 "metadata": {
  "kernelspec": {
   "display_name": "Python 3",
   "language": "python",
   "name": "python3"
  },
  "language_info": {
   "codemirror_mode": {
    "name": "ipython",
    "version": 3
   },
   "file_extension": ".py",
   "mimetype": "text/x-python",
   "name": "python",
   "nbconvert_exporter": "python",
   "pygments_lexer": "ipython3",
   "version": "3.11.9"
  }
 },
 "nbformat": 4,
 "nbformat_minor": 5
}
